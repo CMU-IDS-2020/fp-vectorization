{
 "cells": [
  {
   "cell_type": "code",
   "execution_count": 1,
   "metadata": {},
   "outputs": [],
   "source": [
    "import numpy as np\n",
    "import pandas as pd"
   ]
  },
  {
   "cell_type": "code",
   "execution_count": 2,
   "metadata": {},
   "outputs": [],
   "source": [
    "df = pd.read_pickle('./projects.pkl')"
   ]
  },
  {
   "cell_type": "code",
   "execution_count": 3,
   "metadata": {},
   "outputs": [
    {
     "data": {
      "text/plain": [
       "(1110017, 18)"
      ]
     },
     "execution_count": 3,
     "metadata": {},
     "output_type": "execute_result"
    }
   ],
   "source": [
    "df.shape"
   ]
  },
  {
   "cell_type": "code",
   "execution_count": 4,
   "metadata": {},
   "outputs": [
    {
     "data": {
      "text/plain": [
       "(646531, 19)"
      ]
     },
     "execution_count": 4,
     "metadata": {},
     "output_type": "execute_result"
    }
   ],
   "source": [
    "df_1618 = df[(df['Project Posted Date'] > '2016-01-01') & (df['Project Posted Date'] < '2018-12-31')]\n",
    "df_1618 = df_1618.reset_index()\n",
    "df_1618.shape"
   ]
  },
  {
   "cell_type": "code",
   "execution_count": 5,
   "metadata": {},
   "outputs": [],
   "source": [
    "# df_1618.to_pickle(\"./projects_16_18.pkl\")"
   ]
  },
  {
   "cell_type": "markdown",
   "metadata": {},
   "source": [
    "Target features: [2016-2018]\n",
    "```\n",
    "Project Essay \n",
    "   (length, ?/!, precise numbers)\n",
    "Project Subject Subcategory Tree\n",
    "Project Resource Category\n",
    "Project Cost\n",
    "Project Valid Time (Expiration Date - Posted Date)\n",
    "Teacher Project Posted Sequence\n",
    "```"
   ]
  },
  {
   "cell_type": "code",
   "execution_count": 6,
   "metadata": {},
   "outputs": [
    {
     "data": {
      "text/plain": [
       "Index(['Project ID', 'School ID', 'Teacher ID',\n",
       "       'Teacher Project Posted Sequence', 'Project Type', 'Project Title',\n",
       "       'Project Essay', 'Project Short Description', 'Project Need Statement',\n",
       "       'Project Subject Category Tree', 'Project Subject Subcategory Tree',\n",
       "       'Project Grade Level Category', 'Project Resource Category',\n",
       "       'Project Cost', 'Project Posted Date', 'Project Expiration Date',\n",
       "       'Project Current Status', 'Project Fully Funded Date'],\n",
       "      dtype='object')"
      ]
     },
     "execution_count": 6,
     "metadata": {},
     "output_type": "execute_result"
    }
   ],
   "source": [
    "df.columns"
   ]
  },
  {
   "cell_type": "code",
   "execution_count": 7,
   "metadata": {},
   "outputs": [],
   "source": [
    "import re\n",
    "regex_sanitize = re.compile(r\"(<!--DONOTREMOVEESSAYDIVIDER-->)\")\n",
    "df_1618['Project Essay Cleaned'] = df_1618['Project Essay'].str.replace(regex_sanitize, '')"
   ]
  },
  {
   "cell_type": "code",
   "execution_count": 8,
   "metadata": {},
   "outputs": [],
   "source": [
    "df_1618['X_essay_len'] = df_1618['Project Essay Cleaned'].str.len()"
   ]
  },
  {
   "cell_type": "code",
   "execution_count": 9,
   "metadata": {},
   "outputs": [],
   "source": [
    "df_1618['X_essay_?!'] = df_1618['Project Essay Cleaned'].str.count('\\\\?') + df_1618['Project Essay Cleaned'].str.count('\\\\!')"
   ]
  },
  {
   "cell_type": "code",
   "execution_count": 10,
   "metadata": {},
   "outputs": [
    {
     "data": {
      "text/plain": [
       "array([ 0,  1,  4,  2,  5,  8,  3,  7, 10,  6,  9, 12, 14, 11, 21, 13, 22,\n",
       "       15, 25, 24, 16, 18, 20, 19, 17, 23, 26, 29, 31, 32, 30])"
      ]
     },
     "execution_count": 10,
     "metadata": {},
     "output_type": "execute_result"
    }
   ],
   "source": [
    "df_1618['X_essay_?!'].unique()"
   ]
  },
  {
   "cell_type": "code",
   "execution_count": 11,
   "metadata": {},
   "outputs": [],
   "source": [
    "english_numbers = [\"One\", \"Two\", \"Three\", \"Four\", \"Five\", \\\n",
    "                   \"Six\", \"Seven\", \"Eight\", \"Nine\", \"Ten\", \\\n",
    "                   \"Eleven\", \"Twelve\", \"Thirteen\", \"Fourteen\", \"Fifteen\", \\\n",
    "                   \"Sixteen\", \"Seventeen\", \"Eighteen\", \"Nineteen\", \"Twenty\", \\\n",
    "                   \"Thirty\", \"Forty\", \"Fifty\", \"Sixty\", \"Seventy\", \"Eighty\", \"Ninety\", \\\n",
    "                   \"Thousand\", \"Million\", \"Billion\"]"
   ]
  },
  {
   "cell_type": "code",
   "execution_count": 12,
   "metadata": {},
   "outputs": [],
   "source": [
    "regex_numbers = re.compile(\"(\\d|(\" + \"|\".join(map(re.escape, english_numbers)) + \"))\")"
   ]
  },
  {
   "cell_type": "code",
   "execution_count": 13,
   "metadata": {},
   "outputs": [],
   "source": [
    "df_1618['X_essay_numbers'] = df_1618['Project Essay Cleaned'].str.count(regex_numbers)"
   ]
  },
  {
   "cell_type": "code",
   "execution_count": 14,
   "metadata": {},
   "outputs": [
    {
     "data": {
      "text/plain": [
       "0     1\n",
       "1     0\n",
       "2     0\n",
       "3     0\n",
       "4     4\n",
       "5     9\n",
       "6     8\n",
       "7     4\n",
       "8     5\n",
       "9     4\n",
       "10    5\n",
       "11    8\n",
       "12    3\n",
       "13    3\n",
       "14    0\n",
       "15    2\n",
       "16    9\n",
       "17    3\n",
       "18    0\n",
       "19    5\n",
       "Name: X_essay_numbers, dtype: int64"
      ]
     },
     "execution_count": 14,
     "metadata": {},
     "output_type": "execute_result"
    }
   ],
   "source": [
    "df_1618['X_essay_numbers'][0:20]"
   ]
  },
  {
   "cell_type": "code",
   "execution_count": 15,
   "metadata": {},
   "outputs": [],
   "source": [
    "# df_1618.to_pickle(\"./projects_16_18_with_essay_features.pkl\")"
   ]
  },
  {
   "cell_type": "code",
   "execution_count": 16,
   "metadata": {},
   "outputs": [],
   "source": [
    "# df_1618 = pd.read_pickle(\"./projects_16_18_essay_features.pkl\")"
   ]
  },
  {
   "cell_type": "code",
   "execution_count": 19,
   "metadata": {},
   "outputs": [
    {
     "data": {
      "text/html": [
       "<div>\n",
       "<style scoped>\n",
       "    .dataframe tbody tr th:only-of-type {\n",
       "        vertical-align: middle;\n",
       "    }\n",
       "\n",
       "    .dataframe tbody tr th {\n",
       "        vertical-align: top;\n",
       "    }\n",
       "\n",
       "    .dataframe thead th {\n",
       "        text-align: right;\n",
       "    }\n",
       "</style>\n",
       "<table border=\"1\" class=\"dataframe\">\n",
       "  <thead>\n",
       "    <tr style=\"text-align: right;\">\n",
       "      <th></th>\n",
       "      <th>index</th>\n",
       "      <th>Project ID</th>\n",
       "      <th>School ID</th>\n",
       "      <th>Teacher ID</th>\n",
       "      <th>Teacher Project Posted Sequence</th>\n",
       "      <th>Project Type</th>\n",
       "      <th>Project Title</th>\n",
       "      <th>Project Essay</th>\n",
       "      <th>Project Short Description</th>\n",
       "      <th>Project Need Statement</th>\n",
       "      <th>...</th>\n",
       "      <th>Project Resource Category</th>\n",
       "      <th>Project Cost</th>\n",
       "      <th>Project Posted Date</th>\n",
       "      <th>Project Expiration Date</th>\n",
       "      <th>Project Current Status</th>\n",
       "      <th>Project Fully Funded Date</th>\n",
       "      <th>Project Essay Cleaned</th>\n",
       "      <th>X_essay_len</th>\n",
       "      <th>X_essay_?!</th>\n",
       "      <th>X_essay_numbers</th>\n",
       "    </tr>\n",
       "  </thead>\n",
       "  <tbody>\n",
       "    <tr>\n",
       "      <th>0</th>\n",
       "      <td>463486</td>\n",
       "      <td>2d36bc7bb0e06fa27584712947b1e1ed</td>\n",
       "      <td>804169121f2cdb3bda4665e58a03e3ae</td>\n",
       "      <td>07199b6a5217c4f85582f9cbbfbd65b4</td>\n",
       "      <td>1</td>\n",
       "      <td>Teacher-Led</td>\n",
       "      <td>A Hungry Stomach Cannot Hear</td>\n",
       "      <td>“A hungry stomach cannot hear” This quote by J...</td>\n",
       "      <td>\"A hungry stomach cannot hear\" This quote by J...</td>\n",
       "      <td>My students need snacks such as Cheetos, anima...</td>\n",
       "      <td>...</td>\n",
       "      <td>Other</td>\n",
       "      <td>509.89</td>\n",
       "      <td>2016-01-02</td>\n",
       "      <td>2016-05-01</td>\n",
       "      <td>Fully Funded</td>\n",
       "      <td>2016-01-07</td>\n",
       "      <td>“A hungry stomach cannot hear” This quote by J...</td>\n",
       "      <td>1170</td>\n",
       "      <td>0</td>\n",
       "      <td>1</td>\n",
       "    </tr>\n",
       "    <tr>\n",
       "      <th>1</th>\n",
       "      <td>463487</td>\n",
       "      <td>9e9172005e36c8ca6cf85839022cc430</td>\n",
       "      <td>e616411ce0b0adcb07f917a6fa77cb6b</td>\n",
       "      <td>f24527c2f0fa1326a60fd57e1956bc4a</td>\n",
       "      <td>16</td>\n",
       "      <td>Teacher-Led</td>\n",
       "      <td>Storage For Our Awesome Books!</td>\n",
       "      <td>\"I have always imagined that paradise will be ...</td>\n",
       "      <td>\"I have always imagined that paradise will be ...</td>\n",
       "      <td>My students need a mobile storage cart and boo...</td>\n",
       "      <td>...</td>\n",
       "      <td>Supplies</td>\n",
       "      <td>284.27</td>\n",
       "      <td>2016-01-02</td>\n",
       "      <td>2016-04-30</td>\n",
       "      <td>Expired</td>\n",
       "      <td>NaN</td>\n",
       "      <td>\"I have always imagined that paradise will be ...</td>\n",
       "      <td>1277</td>\n",
       "      <td>0</td>\n",
       "      <td>0</td>\n",
       "    </tr>\n",
       "    <tr>\n",
       "      <th>2</th>\n",
       "      <td>463488</td>\n",
       "      <td>abce71a45bb063e40fba669d01d22c29</td>\n",
       "      <td>e292eb8cc227208fe22952bdbaa27963</td>\n",
       "      <td>6256f3cb5c44aa6ab76fbf3b0b37327d</td>\n",
       "      <td>5</td>\n",
       "      <td>Teacher-Led</td>\n",
       "      <td>We're All Ears for a Listening Center</td>\n",
       "      <td>After listening to a read aloud read by the te...</td>\n",
       "      <td>After listening to a read aloud read by the te...</td>\n",
       "      <td>My students need a listening center and books ...</td>\n",
       "      <td>...</td>\n",
       "      <td>Books</td>\n",
       "      <td>272.92</td>\n",
       "      <td>2016-01-02</td>\n",
       "      <td>2016-05-01</td>\n",
       "      <td>Fully Funded</td>\n",
       "      <td>2016-03-10</td>\n",
       "      <td>After listening to a read aloud read by the te...</td>\n",
       "      <td>2075</td>\n",
       "      <td>0</td>\n",
       "      <td>0</td>\n",
       "    </tr>\n",
       "    <tr>\n",
       "      <th>3</th>\n",
       "      <td>463489</td>\n",
       "      <td>7150253bfc78d79c2b483ff16e2a552a</td>\n",
       "      <td>bc0a0fa6f51793c1b2d5e72925d2d338</td>\n",
       "      <td>eeb3e0cea9a637a186b539bbd00f6f45</td>\n",
       "      <td>2</td>\n",
       "      <td>Teacher-Led</td>\n",
       "      <td>Books for Our SOARING Library</td>\n",
       "      <td>Some of my students have not yet discovered bo...</td>\n",
       "      <td>Some of my students have not yet discovered bo...</td>\n",
       "      <td>My students need a rug and more storage to dis...</td>\n",
       "      <td>...</td>\n",
       "      <td>Books</td>\n",
       "      <td>189.76</td>\n",
       "      <td>2016-01-02</td>\n",
       "      <td>2016-04-30</td>\n",
       "      <td>Fully Funded</td>\n",
       "      <td>2016-01-14</td>\n",
       "      <td>Some of my students have not yet discovered bo...</td>\n",
       "      <td>1259</td>\n",
       "      <td>0</td>\n",
       "      <td>0</td>\n",
       "    </tr>\n",
       "    <tr>\n",
       "      <th>4</th>\n",
       "      <td>463490</td>\n",
       "      <td>366c36725e9e7607b5c5e5c0eb7126b7</td>\n",
       "      <td>50a01f5346ae59dbaff4768946749f6b</td>\n",
       "      <td>be8786b4a0f56e8beb28c5aa7409ba29</td>\n",
       "      <td>9</td>\n",
       "      <td>Teacher-Led</td>\n",
       "      <td>Bluford High Books: Making Connections with Books</td>\n",
       "      <td>My students - especially my girls - have been ...</td>\n",
       "      <td>My students - especially my girls - have been ...</td>\n",
       "      <td>My students need copies of the Bluford High bo...</td>\n",
       "      <td>...</td>\n",
       "      <td>Books</td>\n",
       "      <td>174.60</td>\n",
       "      <td>2016-01-02</td>\n",
       "      <td>2016-05-01</td>\n",
       "      <td>Fully Funded</td>\n",
       "      <td>2016-03-09</td>\n",
       "      <td>My students - especially my girls - have been ...</td>\n",
       "      <td>1628</td>\n",
       "      <td>1</td>\n",
       "      <td>4</td>\n",
       "    </tr>\n",
       "  </tbody>\n",
       "</table>\n",
       "<p>5 rows × 23 columns</p>\n",
       "</div>"
      ],
      "text/plain": [
       "    index                        Project ID                         School ID  \\\n",
       "0  463486  2d36bc7bb0e06fa27584712947b1e1ed  804169121f2cdb3bda4665e58a03e3ae   \n",
       "1  463487  9e9172005e36c8ca6cf85839022cc430  e616411ce0b0adcb07f917a6fa77cb6b   \n",
       "2  463488  abce71a45bb063e40fba669d01d22c29  e292eb8cc227208fe22952bdbaa27963   \n",
       "3  463489  7150253bfc78d79c2b483ff16e2a552a  bc0a0fa6f51793c1b2d5e72925d2d338   \n",
       "4  463490  366c36725e9e7607b5c5e5c0eb7126b7  50a01f5346ae59dbaff4768946749f6b   \n",
       "\n",
       "                         Teacher ID  Teacher Project Posted Sequence  \\\n",
       "0  07199b6a5217c4f85582f9cbbfbd65b4                                1   \n",
       "1  f24527c2f0fa1326a60fd57e1956bc4a                               16   \n",
       "2  6256f3cb5c44aa6ab76fbf3b0b37327d                                5   \n",
       "3  eeb3e0cea9a637a186b539bbd00f6f45                                2   \n",
       "4  be8786b4a0f56e8beb28c5aa7409ba29                                9   \n",
       "\n",
       "  Project Type                                      Project Title  \\\n",
       "0  Teacher-Led                       A Hungry Stomach Cannot Hear   \n",
       "1  Teacher-Led                     Storage For Our Awesome Books!   \n",
       "2  Teacher-Led              We're All Ears for a Listening Center   \n",
       "3  Teacher-Led                      Books for Our SOARING Library   \n",
       "4  Teacher-Led  Bluford High Books: Making Connections with Books   \n",
       "\n",
       "                                       Project Essay  \\\n",
       "0  “A hungry stomach cannot hear” This quote by J...   \n",
       "1  \"I have always imagined that paradise will be ...   \n",
       "2  After listening to a read aloud read by the te...   \n",
       "3  Some of my students have not yet discovered bo...   \n",
       "4  My students - especially my girls - have been ...   \n",
       "\n",
       "                           Project Short Description  \\\n",
       "0  \"A hungry stomach cannot hear\" This quote by J...   \n",
       "1  \"I have always imagined that paradise will be ...   \n",
       "2  After listening to a read aloud read by the te...   \n",
       "3  Some of my students have not yet discovered bo...   \n",
       "4  My students - especially my girls - have been ...   \n",
       "\n",
       "                              Project Need Statement  ...  \\\n",
       "0  My students need snacks such as Cheetos, anima...  ...   \n",
       "1  My students need a mobile storage cart and boo...  ...   \n",
       "2  My students need a listening center and books ...  ...   \n",
       "3  My students need a rug and more storage to dis...  ...   \n",
       "4  My students need copies of the Bluford High bo...  ...   \n",
       "\n",
       "  Project Resource Category Project Cost Project Posted Date  \\\n",
       "0                     Other       509.89          2016-01-02   \n",
       "1                  Supplies       284.27          2016-01-02   \n",
       "2                     Books       272.92          2016-01-02   \n",
       "3                     Books       189.76          2016-01-02   \n",
       "4                     Books       174.60          2016-01-02   \n",
       "\n",
       "  Project Expiration Date  Project Current Status Project Fully Funded Date  \\\n",
       "0              2016-05-01            Fully Funded                2016-01-07   \n",
       "1              2016-04-30                 Expired                       NaN   \n",
       "2              2016-05-01            Fully Funded                2016-03-10   \n",
       "3              2016-04-30            Fully Funded                2016-01-14   \n",
       "4              2016-05-01            Fully Funded                2016-03-09   \n",
       "\n",
       "                               Project Essay Cleaned X_essay_len X_essay_?!  \\\n",
       "0  “A hungry stomach cannot hear” This quote by J...        1170          0   \n",
       "1  \"I have always imagined that paradise will be ...        1277          0   \n",
       "2  After listening to a read aloud read by the te...        2075          0   \n",
       "3  Some of my students have not yet discovered bo...        1259          0   \n",
       "4  My students - especially my girls - have been ...        1628          1   \n",
       "\n",
       "  X_essay_numbers  \n",
       "0               1  \n",
       "1               0  \n",
       "2               0  \n",
       "3               0  \n",
       "4               4  \n",
       "\n",
       "[5 rows x 23 columns]"
      ]
     },
     "execution_count": 19,
     "metadata": {},
     "output_type": "execute_result"
    }
   ],
   "source": [
    "df_1618.head()"
   ]
  },
  {
   "cell_type": "code",
   "execution_count": 20,
   "metadata": {},
   "outputs": [],
   "source": [
    "df_1618_features_only = df_1618.filter(['Project ID', 'Project Current Status', 'X_essay_len', 'X_essay_?!', 'X_essay_numbers'], axis=1)"
   ]
  },
  {
   "cell_type": "code",
   "execution_count": 21,
   "metadata": {},
   "outputs": [],
   "source": [
    "df_1618_features_only.to_pickle(\"./projects_16_18_essay_features_only.pkl\")"
   ]
  },
  {
   "cell_type": "code",
   "execution_count": null,
   "metadata": {},
   "outputs": [],
   "source": []
  }
 ],
 "metadata": {
  "kernelspec": {
   "display_name": "Python 3",
   "language": "python",
   "name": "python3"
  },
  "language_info": {
   "codemirror_mode": {
    "name": "ipython",
    "version": 3
   },
   "file_extension": ".py",
   "mimetype": "text/x-python",
   "name": "python",
   "nbconvert_exporter": "python",
   "pygments_lexer": "ipython3",
   "version": "3.8.1"
  }
 },
 "nbformat": 4,
 "nbformat_minor": 4
}
