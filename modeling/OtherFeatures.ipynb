{
 "cells": [
  {
   "cell_type": "code",
   "execution_count": 1,
   "metadata": {},
   "outputs": [],
   "source": [
    "import numpy as np\n",
    "import pandas as pd"
   ]
  },
  {
   "cell_type": "code",
   "execution_count": 3,
   "metadata": {},
   "outputs": [],
   "source": [
    "df = pd.read_pickle('projects.pkl')"
   ]
  },
  {
   "cell_type": "code",
   "execution_count": 4,
   "metadata": {},
   "outputs": [
    {
     "data": {
      "text/plain": [
       "(646531, 19)"
      ]
     },
     "execution_count": 4,
     "metadata": {},
     "output_type": "execute_result"
    }
   ],
   "source": [
    "df_1618 = df[(df['Project Posted Date'] > '2016-01-01') & (df['Project Posted Date'] < '2018-12-31')]\n",
    "df_1618 = df_1618.reset_index()\n",
    "df_1618.shape"
   ]
  },
  {
   "cell_type": "code",
   "execution_count": 5,
   "metadata": {},
   "outputs": [
    {
     "data": {
      "text/html": [
       "<div>\n",
       "<style scoped>\n",
       "    .dataframe tbody tr th:only-of-type {\n",
       "        vertical-align: middle;\n",
       "    }\n",
       "\n",
       "    .dataframe tbody tr th {\n",
       "        vertical-align: top;\n",
       "    }\n",
       "\n",
       "    .dataframe thead th {\n",
       "        text-align: right;\n",
       "    }\n",
       "</style>\n",
       "<table border=\"1\" class=\"dataframe\">\n",
       "  <thead>\n",
       "    <tr style=\"text-align: right;\">\n",
       "      <th></th>\n",
       "      <th>index</th>\n",
       "      <th>Project ID</th>\n",
       "      <th>School ID</th>\n",
       "      <th>Teacher ID</th>\n",
       "      <th>Teacher Project Posted Sequence</th>\n",
       "      <th>Project Type</th>\n",
       "      <th>Project Title</th>\n",
       "      <th>Project Essay</th>\n",
       "      <th>Project Short Description</th>\n",
       "      <th>Project Need Statement</th>\n",
       "      <th>Project Subject Category Tree</th>\n",
       "      <th>Project Subject Subcategory Tree</th>\n",
       "      <th>Project Grade Level Category</th>\n",
       "      <th>Project Resource Category</th>\n",
       "      <th>Project Cost</th>\n",
       "      <th>Project Posted Date</th>\n",
       "      <th>Project Expiration Date</th>\n",
       "      <th>Project Current Status</th>\n",
       "      <th>Project Fully Funded Date</th>\n",
       "    </tr>\n",
       "  </thead>\n",
       "  <tbody>\n",
       "    <tr>\n",
       "      <th>0</th>\n",
       "      <td>463486</td>\n",
       "      <td>2d36bc7bb0e06fa27584712947b1e1ed</td>\n",
       "      <td>804169121f2cdb3bda4665e58a03e3ae</td>\n",
       "      <td>07199b6a5217c4f85582f9cbbfbd65b4</td>\n",
       "      <td>1</td>\n",
       "      <td>Teacher-Led</td>\n",
       "      <td>A Hungry Stomach Cannot Hear</td>\n",
       "      <td>“A hungry stomach cannot hear” This quote by J...</td>\n",
       "      <td>\"A hungry stomach cannot hear\" This quote by J...</td>\n",
       "      <td>My students need snacks such as Cheetos, anima...</td>\n",
       "      <td>Literacy &amp; Language, Applied Learning</td>\n",
       "      <td>Literacy, Other</td>\n",
       "      <td>Grades 3-5</td>\n",
       "      <td>Other</td>\n",
       "      <td>509.89</td>\n",
       "      <td>2016-01-02</td>\n",
       "      <td>2016-05-01</td>\n",
       "      <td>Fully Funded</td>\n",
       "      <td>2016-01-07</td>\n",
       "    </tr>\n",
       "    <tr>\n",
       "      <th>1</th>\n",
       "      <td>463487</td>\n",
       "      <td>9e9172005e36c8ca6cf85839022cc430</td>\n",
       "      <td>e616411ce0b0adcb07f917a6fa77cb6b</td>\n",
       "      <td>f24527c2f0fa1326a60fd57e1956bc4a</td>\n",
       "      <td>16</td>\n",
       "      <td>Teacher-Led</td>\n",
       "      <td>Storage For Our Awesome Books!</td>\n",
       "      <td>\"I have always imagined that paradise will be ...</td>\n",
       "      <td>\"I have always imagined that paradise will be ...</td>\n",
       "      <td>My students need a mobile storage cart and boo...</td>\n",
       "      <td>Literacy &amp; Language</td>\n",
       "      <td>Literacy</td>\n",
       "      <td>Grades PreK-2</td>\n",
       "      <td>Supplies</td>\n",
       "      <td>284.27</td>\n",
       "      <td>2016-01-02</td>\n",
       "      <td>2016-04-30</td>\n",
       "      <td>Expired</td>\n",
       "      <td>NaN</td>\n",
       "    </tr>\n",
       "    <tr>\n",
       "      <th>2</th>\n",
       "      <td>463488</td>\n",
       "      <td>abce71a45bb063e40fba669d01d22c29</td>\n",
       "      <td>e292eb8cc227208fe22952bdbaa27963</td>\n",
       "      <td>6256f3cb5c44aa6ab76fbf3b0b37327d</td>\n",
       "      <td>5</td>\n",
       "      <td>Teacher-Led</td>\n",
       "      <td>We're All Ears for a Listening Center</td>\n",
       "      <td>After listening to a read aloud read by the te...</td>\n",
       "      <td>After listening to a read aloud read by the te...</td>\n",
       "      <td>My students need a listening center and books ...</td>\n",
       "      <td>Literacy &amp; Language, Music &amp; The Arts</td>\n",
       "      <td>Literacy, Visual Arts</td>\n",
       "      <td>Grades PreK-2</td>\n",
       "      <td>Books</td>\n",
       "      <td>272.92</td>\n",
       "      <td>2016-01-02</td>\n",
       "      <td>2016-05-01</td>\n",
       "      <td>Fully Funded</td>\n",
       "      <td>2016-03-10</td>\n",
       "    </tr>\n",
       "    <tr>\n",
       "      <th>3</th>\n",
       "      <td>463489</td>\n",
       "      <td>7150253bfc78d79c2b483ff16e2a552a</td>\n",
       "      <td>bc0a0fa6f51793c1b2d5e72925d2d338</td>\n",
       "      <td>eeb3e0cea9a637a186b539bbd00f6f45</td>\n",
       "      <td>2</td>\n",
       "      <td>Teacher-Led</td>\n",
       "      <td>Books for Our SOARING Library</td>\n",
       "      <td>Some of my students have not yet discovered bo...</td>\n",
       "      <td>Some of my students have not yet discovered bo...</td>\n",
       "      <td>My students need a rug and more storage to dis...</td>\n",
       "      <td>History &amp; Civics</td>\n",
       "      <td>History &amp; Geography</td>\n",
       "      <td>Grades 3-5</td>\n",
       "      <td>Books</td>\n",
       "      <td>189.76</td>\n",
       "      <td>2016-01-02</td>\n",
       "      <td>2016-04-30</td>\n",
       "      <td>Fully Funded</td>\n",
       "      <td>2016-01-14</td>\n",
       "    </tr>\n",
       "    <tr>\n",
       "      <th>4</th>\n",
       "      <td>463490</td>\n",
       "      <td>366c36725e9e7607b5c5e5c0eb7126b7</td>\n",
       "      <td>50a01f5346ae59dbaff4768946749f6b</td>\n",
       "      <td>be8786b4a0f56e8beb28c5aa7409ba29</td>\n",
       "      <td>9</td>\n",
       "      <td>Teacher-Led</td>\n",
       "      <td>Bluford High Books: Making Connections with Books</td>\n",
       "      <td>My students - especially my girls - have been ...</td>\n",
       "      <td>My students - especially my girls - have been ...</td>\n",
       "      <td>My students need copies of the Bluford High bo...</td>\n",
       "      <td>Literacy &amp; Language</td>\n",
       "      <td>Literacy</td>\n",
       "      <td>Grades 6-8</td>\n",
       "      <td>Books</td>\n",
       "      <td>174.60</td>\n",
       "      <td>2016-01-02</td>\n",
       "      <td>2016-05-01</td>\n",
       "      <td>Fully Funded</td>\n",
       "      <td>2016-03-09</td>\n",
       "    </tr>\n",
       "  </tbody>\n",
       "</table>\n",
       "</div>"
      ],
      "text/plain": [
       "    index                        Project ID                         School ID  \\\n",
       "0  463486  2d36bc7bb0e06fa27584712947b1e1ed  804169121f2cdb3bda4665e58a03e3ae   \n",
       "1  463487  9e9172005e36c8ca6cf85839022cc430  e616411ce0b0adcb07f917a6fa77cb6b   \n",
       "2  463488  abce71a45bb063e40fba669d01d22c29  e292eb8cc227208fe22952bdbaa27963   \n",
       "3  463489  7150253bfc78d79c2b483ff16e2a552a  bc0a0fa6f51793c1b2d5e72925d2d338   \n",
       "4  463490  366c36725e9e7607b5c5e5c0eb7126b7  50a01f5346ae59dbaff4768946749f6b   \n",
       "\n",
       "                         Teacher ID  Teacher Project Posted Sequence  \\\n",
       "0  07199b6a5217c4f85582f9cbbfbd65b4                                1   \n",
       "1  f24527c2f0fa1326a60fd57e1956bc4a                               16   \n",
       "2  6256f3cb5c44aa6ab76fbf3b0b37327d                                5   \n",
       "3  eeb3e0cea9a637a186b539bbd00f6f45                                2   \n",
       "4  be8786b4a0f56e8beb28c5aa7409ba29                                9   \n",
       "\n",
       "  Project Type                                      Project Title  \\\n",
       "0  Teacher-Led                       A Hungry Stomach Cannot Hear   \n",
       "1  Teacher-Led                     Storage For Our Awesome Books!   \n",
       "2  Teacher-Led              We're All Ears for a Listening Center   \n",
       "3  Teacher-Led                      Books for Our SOARING Library   \n",
       "4  Teacher-Led  Bluford High Books: Making Connections with Books   \n",
       "\n",
       "                                       Project Essay  \\\n",
       "0  “A hungry stomach cannot hear” This quote by J...   \n",
       "1  \"I have always imagined that paradise will be ...   \n",
       "2  After listening to a read aloud read by the te...   \n",
       "3  Some of my students have not yet discovered bo...   \n",
       "4  My students - especially my girls - have been ...   \n",
       "\n",
       "                           Project Short Description  \\\n",
       "0  \"A hungry stomach cannot hear\" This quote by J...   \n",
       "1  \"I have always imagined that paradise will be ...   \n",
       "2  After listening to a read aloud read by the te...   \n",
       "3  Some of my students have not yet discovered bo...   \n",
       "4  My students - especially my girls - have been ...   \n",
       "\n",
       "                              Project Need Statement  \\\n",
       "0  My students need snacks such as Cheetos, anima...   \n",
       "1  My students need a mobile storage cart and boo...   \n",
       "2  My students need a listening center and books ...   \n",
       "3  My students need a rug and more storage to dis...   \n",
       "4  My students need copies of the Bluford High bo...   \n",
       "\n",
       "           Project Subject Category Tree Project Subject Subcategory Tree  \\\n",
       "0  Literacy & Language, Applied Learning                  Literacy, Other   \n",
       "1                    Literacy & Language                         Literacy   \n",
       "2  Literacy & Language, Music & The Arts            Literacy, Visual Arts   \n",
       "3                       History & Civics              History & Geography   \n",
       "4                    Literacy & Language                         Literacy   \n",
       "\n",
       "  Project Grade Level Category Project Resource Category  Project Cost  \\\n",
       "0                   Grades 3-5                     Other        509.89   \n",
       "1                Grades PreK-2                  Supplies        284.27   \n",
       "2                Grades PreK-2                     Books        272.92   \n",
       "3                   Grades 3-5                     Books        189.76   \n",
       "4                   Grades 6-8                     Books        174.60   \n",
       "\n",
       "  Project Posted Date Project Expiration Date Project Current Status  \\\n",
       "0          2016-01-02              2016-05-01           Fully Funded   \n",
       "1          2016-01-02              2016-04-30                Expired   \n",
       "2          2016-01-02              2016-05-01           Fully Funded   \n",
       "3          2016-01-02              2016-04-30           Fully Funded   \n",
       "4          2016-01-02              2016-05-01           Fully Funded   \n",
       "\n",
       "  Project Fully Funded Date  \n",
       "0                2016-01-07  \n",
       "1                       NaN  \n",
       "2                2016-03-10  \n",
       "3                2016-01-14  \n",
       "4                2016-03-09  "
      ]
     },
     "execution_count": 5,
     "metadata": {},
     "output_type": "execute_result"
    }
   ],
   "source": [
    "df_1618.head()"
   ]
  },
  {
   "cell_type": "code",
   "execution_count": 7,
   "metadata": {},
   "outputs": [
    {
     "data": {
      "text/plain": [
       "Literacy & Language    311114\n",
       "Math & Science         248344\n",
       "Applied Learning        92814\n",
       "Special Needs           83519\n",
       "Music & The Arts        65221\n",
       "Health & Sports         59598\n",
       "History & Civics        37380\n",
       "Warmth                  10516\n",
       "Care & Hunger           10516\n",
       "Name: Project Subject Category Tree, dtype: int64"
      ]
     },
     "execution_count": 7,
     "metadata": {},
     "output_type": "execute_result"
    }
   ],
   "source": [
    "# df_1618['Project Subject Category Tree'].apply(lambda x: x.split(', ')).explode().value_counts()"
   ]
  },
  {
   "cell_type": "code",
   "execution_count": 10,
   "metadata": {},
   "outputs": [],
   "source": [
    "subcategories = df_1618['Project Subject Subcategory Tree'].apply(lambda x: x.split(', ')).explode().value_counts().index"
   ]
  },
  {
   "cell_type": "code",
   "execution_count": 13,
   "metadata": {},
   "outputs": [
    {
     "data": {
      "text/plain": [
       "Index(['Literacy', 'Mathematics', 'Literature & Writing', 'Special Needs',\n",
       "       'Applied Sciences', 'Health & Wellness', 'Visual Arts',\n",
       "       'Environmental Science', 'Early Development', 'ESL',\n",
       "       'Health & Life Science', 'Music', 'History & Geography',\n",
       "       'Character Education', 'College & Career Prep', 'Other',\n",
       "       'Gym & Fitness', 'Performing Arts', 'Team Sports', 'Social Sciences',\n",
       "       'Care & Hunger', 'Warmth', 'Extracurricular', 'Foreign Languages',\n",
       "       'Civics & Government', 'Parent Involvement', 'Financial Literacy',\n",
       "       'Nutrition Education', 'Community Service', 'Economics'],\n",
       "      dtype='object')"
      ]
     },
     "execution_count": 13,
     "metadata": {},
     "output_type": "execute_result"
    }
   ],
   "source": [
    "subcategories"
   ]
  },
  {
   "cell_type": "code",
   "execution_count": 14,
   "metadata": {},
   "outputs": [],
   "source": [
    "df_1618['Project Subject Subcategory Tree List'] = df_1618['Project Subject Subcategory Tree'].apply(lambda x: x.split(', '))\n",
    "for subcat in list(subcategories):\n",
    "    df_1618[\"SUBCAT \" + subcat] = df_1618['Project Subject Subcategory Tree List'].apply(lambda x: int(subcat in x))"
   ]
  },
  {
   "cell_type": "code",
   "execution_count": 20,
   "metadata": {},
   "outputs": [
    {
     "data": {
      "text/plain": [
       "Supplies                          234524\n",
       "Technology                        130027\n",
       "Books                             107154\n",
       "Computers & Tablets                32915\n",
       "Educational Kits & Games           22051\n",
       "Instructional Technology           18957\n",
       "Reading Nooks, Desks & Storage     15327\n",
       "Flexible Seating                   14425\n",
       "Trips                              13305\n",
       "Classroom Basics                   11862\n",
       "Other                              11834\n",
       "Art Supplies                        8782\n",
       "Lab Equipment                       7436\n",
       "Sports & Exercise Equipment         6733\n",
       "Food, Clothing & Hygiene            5438\n",
       "Musical Instruments                 4066\n",
       "Visitors                            1695\n",
       "Name: Project Resource Category, dtype: int64"
      ]
     },
     "execution_count": 20,
     "metadata": {},
     "output_type": "execute_result"
    }
   ],
   "source": [
    "# not add in for now in case of high correlation\n",
    "df_1618['Project Resource Category'].value_counts()"
   ]
  },
  {
   "cell_type": "code",
   "execution_count": 35,
   "metadata": {},
   "outputs": [],
   "source": [
    "rescategories = df_1618['Project Resource Category'].value_counts().index\n",
    "for rescat in list(rescategories):\n",
    "    df_1618[\"RESCAT \" + rescat] = df_1618['Project Resource Category'].apply(lambda x: int(rescat == x))"
   ]
  },
  {
   "cell_type": "code",
   "execution_count": 36,
   "metadata": {},
   "outputs": [
    {
     "data": {
      "text/plain": [
       "Index(['Supplies', 'Technology', 'Books', 'Computers & Tablets',\n",
       "       'Educational Kits & Games', 'Instructional Technology',\n",
       "       'Reading Nooks, Desks & Storage', 'Flexible Seating', 'Trips',\n",
       "       'Classroom Basics', 'Other', 'Art Supplies', 'Lab Equipment',\n",
       "       'Sports & Exercise Equipment', 'Food, Clothing & Hygiene',\n",
       "       'Musical Instruments', 'Visitors'],\n",
       "      dtype='object')"
      ]
     },
     "execution_count": 36,
     "metadata": {},
     "output_type": "execute_result"
    }
   ],
   "source": [
    "rescategories"
   ]
  },
  {
   "cell_type": "code",
   "execution_count": 21,
   "metadata": {},
   "outputs": [],
   "source": [
    "df_1618['Project Expiration Date'] = pd.to_datetime(df_1618['Project Expiration Date'], infer_datetime_format=True)\n",
    "df_1618['Project Posted Date'] = pd.to_datetime(df_1618['Project Posted Date'], infer_datetime_format=True)"
   ]
  },
  {
   "cell_type": "code",
   "execution_count": 22,
   "metadata": {},
   "outputs": [],
   "source": [
    "df_1618['Project Valid Time'] = df_1618['Project Expiration Date'] - df_1618['Project Posted Date']"
   ]
  },
  {
   "cell_type": "code",
   "execution_count": 25,
   "metadata": {},
   "outputs": [],
   "source": [
    "df_1618['Project Valid Time'] = df_1618['Project Valid Time'].apply(lambda x: x.days)"
   ]
  },
  {
   "cell_type": "code",
   "execution_count": 26,
   "metadata": {},
   "outputs": [
    {
     "data": {
      "text/plain": [
       "0    120.0\n",
       "1    119.0\n",
       "2    120.0\n",
       "3    119.0\n",
       "4    120.0\n",
       "Name: Project Valid Time, dtype: float64"
      ]
     },
     "execution_count": 26,
     "metadata": {},
     "output_type": "execute_result"
    }
   ],
   "source": [
    "df_1618['Project Valid Time'].head()"
   ]
  },
  {
   "cell_type": "code",
   "execution_count": 28,
   "metadata": {},
   "outputs": [],
   "source": [
    "df_1618['Project Year'] = df_1618['Project Posted Date'].apply(lambda x: x.year)"
   ]
  },
  {
   "cell_type": "code",
   "execution_count": 33,
   "metadata": {},
   "outputs": [],
   "source": [
    "df_1618['Project Year 2016'] = df_1618['Project Year'].apply(lambda x: int(x == 2016))\n",
    "df_1618['Project Year 2017'] = df_1618['Project Year'].apply(lambda x: int(x == 2017))\n",
    "df_1618['Project Year 2018'] = df_1618['Project Year'].apply(lambda x: int(x == 2018))"
   ]
  },
  {
   "cell_type": "code",
   "execution_count": 37,
   "metadata": {},
   "outputs": [],
   "source": [
    "cols = ['Project ID', 'Project Valid Time', 'Project Cost', \n",
    "        'Teacher Project Posted Sequence', 'Project Year 2016', 'Project Year 2017'] + [\n",
    "        'SUBCAT ' + sub for sub in list(subcategories)] + [\n",
    "        'RESCAT ' + res for res in list(rescategories)]\n",
    "df_1618_feats = df_1618[cols].dropna()"
   ]
  },
  {
   "cell_type": "code",
   "execution_count": 38,
   "metadata": {},
   "outputs": [
    {
     "data": {
      "text/plain": [
       "(646517, 53)"
      ]
     },
     "execution_count": 38,
     "metadata": {},
     "output_type": "execute_result"
    }
   ],
   "source": [
    "df_1618_feats.shape"
   ]
  },
  {
   "cell_type": "code",
   "execution_count": 39,
   "metadata": {},
   "outputs": [],
   "source": [
    "df_1618_feats.to_pickle(\"other_feats.pkl\")"
   ]
  },
  {
   "cell_type": "code",
   "execution_count": null,
   "metadata": {},
   "outputs": [],
   "source": []
  }
 ],
 "metadata": {
  "kernelspec": {
   "display_name": "Python 3",
   "language": "python",
   "name": "python3"
  },
  "language_info": {
   "codemirror_mode": {
    "name": "ipython",
    "version": 3
   },
   "file_extension": ".py",
   "mimetype": "text/x-python",
   "name": "python",
   "nbconvert_exporter": "python",
   "pygments_lexer": "ipython3",
   "version": "3.8.1"
  }
 },
 "nbformat": 4,
 "nbformat_minor": 4
}
