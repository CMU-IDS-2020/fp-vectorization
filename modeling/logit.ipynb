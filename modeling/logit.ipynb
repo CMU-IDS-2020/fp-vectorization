{
 "cells": [
  {
   "cell_type": "code",
   "execution_count": 1,
   "metadata": {},
   "outputs": [],
   "source": [
    "import pandas as pd\n",
    "from sklearn.linear_model import LogisticRegression\n",
    "from sklearn.ensemble import RandomForestClassifier\n",
    "from sklearn.model_selection import train_test_split\n",
    "from sklearn.utils import resample\n",
    "from joblib import dump, load"
   ]
  },
  {
   "cell_type": "code",
   "execution_count": 21,
   "metadata": {},
   "outputs": [],
   "source": [
    "df1 = pd.read_pickle(\"projects_16_18_essay_features_only.pkl\")"
   ]
  },
  {
   "cell_type": "code",
   "execution_count": 3,
   "metadata": {},
   "outputs": [],
   "source": [
    "df2 = pd.read_parquet(\"tokens_single_file_part-00000-5bdd9372-029e-4ce4-869e-12a302797c34-c000.snappy.parquet\")"
   ]
  },
  {
   "cell_type": "code",
   "execution_count": 4,
   "metadata": {},
   "outputs": [],
   "source": [
    "df3 = pd.read_pickle(\"other_feats.pkl\")"
   ]
  },
  {
   "cell_type": "code",
   "execution_count": 9,
   "metadata": {},
   "outputs": [
    {
     "data": {
      "text/html": [
       "<div>\n",
       "<style scoped>\n",
       "    .dataframe tbody tr th:only-of-type {\n",
       "        vertical-align: middle;\n",
       "    }\n",
       "\n",
       "    .dataframe tbody tr th {\n",
       "        vertical-align: top;\n",
       "    }\n",
       "\n",
       "    .dataframe thead th {\n",
       "        text-align: right;\n",
       "    }\n",
       "</style>\n",
       "<table border=\"1\" class=\"dataframe\">\n",
       "  <thead>\n",
       "    <tr style=\"text-align: right;\">\n",
       "      <th></th>\n",
       "      <th>Project ID</th>\n",
       "      <th>Project Current Status</th>\n",
       "      <th>X_essay_len</th>\n",
       "      <th>X_essay_?!</th>\n",
       "      <th>X_essay_numbers</th>\n",
       "    </tr>\n",
       "  </thead>\n",
       "  <tbody>\n",
       "    <tr>\n",
       "      <th>0</th>\n",
       "      <td>2d36bc7bb0e06fa27584712947b1e1ed</td>\n",
       "      <td>Fully Funded</td>\n",
       "      <td>1170</td>\n",
       "      <td>0</td>\n",
       "      <td>1</td>\n",
       "    </tr>\n",
       "    <tr>\n",
       "      <th>1</th>\n",
       "      <td>9e9172005e36c8ca6cf85839022cc430</td>\n",
       "      <td>Expired</td>\n",
       "      <td>1277</td>\n",
       "      <td>0</td>\n",
       "      <td>0</td>\n",
       "    </tr>\n",
       "    <tr>\n",
       "      <th>2</th>\n",
       "      <td>abce71a45bb063e40fba669d01d22c29</td>\n",
       "      <td>Fully Funded</td>\n",
       "      <td>2075</td>\n",
       "      <td>0</td>\n",
       "      <td>0</td>\n",
       "    </tr>\n",
       "    <tr>\n",
       "      <th>3</th>\n",
       "      <td>7150253bfc78d79c2b483ff16e2a552a</td>\n",
       "      <td>Fully Funded</td>\n",
       "      <td>1259</td>\n",
       "      <td>0</td>\n",
       "      <td>0</td>\n",
       "    </tr>\n",
       "    <tr>\n",
       "      <th>4</th>\n",
       "      <td>366c36725e9e7607b5c5e5c0eb7126b7</td>\n",
       "      <td>Fully Funded</td>\n",
       "      <td>1628</td>\n",
       "      <td>1</td>\n",
       "      <td>4</td>\n",
       "    </tr>\n",
       "  </tbody>\n",
       "</table>\n",
       "</div>"
      ],
      "text/plain": [
       "                         Project ID Project Current Status  X_essay_len  \\\n",
       "0  2d36bc7bb0e06fa27584712947b1e1ed           Fully Funded         1170   \n",
       "1  9e9172005e36c8ca6cf85839022cc430                Expired         1277   \n",
       "2  abce71a45bb063e40fba669d01d22c29           Fully Funded         2075   \n",
       "3  7150253bfc78d79c2b483ff16e2a552a           Fully Funded         1259   \n",
       "4  366c36725e9e7607b5c5e5c0eb7126b7           Fully Funded         1628   \n",
       "\n",
       "   X_essay_?!  X_essay_numbers  \n",
       "0           0                1  \n",
       "1           0                0  \n",
       "2           0                0  \n",
       "3           0                0  \n",
       "4           1                4  "
      ]
     },
     "execution_count": 9,
     "metadata": {},
     "output_type": "execute_result"
    }
   ],
   "source": [
    "df1.head()"
   ]
  },
  {
   "cell_type": "code",
   "execution_count": 7,
   "metadata": {},
   "outputs": [
    {
     "data": {
      "text/html": [
       "<div>\n",
       "<style scoped>\n",
       "    .dataframe tbody tr th:only-of-type {\n",
       "        vertical-align: middle;\n",
       "    }\n",
       "\n",
       "    .dataframe tbody tr th {\n",
       "        vertical-align: top;\n",
       "    }\n",
       "\n",
       "    .dataframe thead th {\n",
       "        text-align: right;\n",
       "    }\n",
       "</style>\n",
       "<table border=\"1\" class=\"dataframe\">\n",
       "  <thead>\n",
       "    <tr style=\"text-align: right;\">\n",
       "      <th></th>\n",
       "      <th>ProjectID</th>\n",
       "      <th>student</th>\n",
       "      <th>school</th>\n",
       "      <th>learn</th>\n",
       "      <th>classroom</th>\n",
       "      <th>help</th>\n",
       "      <th>work</th>\n",
       "      <th>read</th>\n",
       "      <th>love</th>\n",
       "      <th>day</th>\n",
       "      <th>...</th>\n",
       "      <th>sport</th>\n",
       "      <th>hurricane</th>\n",
       "      <th>health</th>\n",
       "      <th>volleyball</th>\n",
       "      <th>basketball</th>\n",
       "      <th>soccer</th>\n",
       "      <th>college</th>\n",
       "      <th>museum</th>\n",
       "      <th>paint</th>\n",
       "      <th>activity</th>\n",
       "    </tr>\n",
       "  </thead>\n",
       "  <tbody>\n",
       "    <tr>\n",
       "      <th>0</th>\n",
       "      <td>1dd5a2cc7141208616671df62172dfe2</td>\n",
       "      <td>5</td>\n",
       "      <td>1</td>\n",
       "      <td>0</td>\n",
       "      <td>1</td>\n",
       "      <td>0</td>\n",
       "      <td>3</td>\n",
       "      <td>2</td>\n",
       "      <td>0</td>\n",
       "      <td>0</td>\n",
       "      <td>...</td>\n",
       "      <td>0</td>\n",
       "      <td>0</td>\n",
       "      <td>0</td>\n",
       "      <td>0</td>\n",
       "      <td>0</td>\n",
       "      <td>0</td>\n",
       "      <td>0</td>\n",
       "      <td>0</td>\n",
       "      <td>0</td>\n",
       "      <td>0</td>\n",
       "    </tr>\n",
       "    <tr>\n",
       "      <th>1</th>\n",
       "      <td>5f5d543c5840b3518b280cabd68a5a78</td>\n",
       "      <td>7</td>\n",
       "      <td>2</td>\n",
       "      <td>7</td>\n",
       "      <td>2</td>\n",
       "      <td>1</td>\n",
       "      <td>0</td>\n",
       "      <td>0</td>\n",
       "      <td>0</td>\n",
       "      <td>0</td>\n",
       "      <td>...</td>\n",
       "      <td>0</td>\n",
       "      <td>0</td>\n",
       "      <td>1</td>\n",
       "      <td>0</td>\n",
       "      <td>0</td>\n",
       "      <td>0</td>\n",
       "      <td>0</td>\n",
       "      <td>0</td>\n",
       "      <td>0</td>\n",
       "      <td>0</td>\n",
       "    </tr>\n",
       "    <tr>\n",
       "      <th>2</th>\n",
       "      <td>b85065c595a38b1ec7583799d0c220ef</td>\n",
       "      <td>12</td>\n",
       "      <td>8</td>\n",
       "      <td>2</td>\n",
       "      <td>1</td>\n",
       "      <td>1</td>\n",
       "      <td>1</td>\n",
       "      <td>2</td>\n",
       "      <td>4</td>\n",
       "      <td>0</td>\n",
       "      <td>...</td>\n",
       "      <td>0</td>\n",
       "      <td>0</td>\n",
       "      <td>0</td>\n",
       "      <td>0</td>\n",
       "      <td>0</td>\n",
       "      <td>0</td>\n",
       "      <td>0</td>\n",
       "      <td>0</td>\n",
       "      <td>0</td>\n",
       "      <td>0</td>\n",
       "    </tr>\n",
       "    <tr>\n",
       "      <th>3</th>\n",
       "      <td>1e0efc5f3bf4d1ba9e8a0722e4dbcd0e</td>\n",
       "      <td>8</td>\n",
       "      <td>1</td>\n",
       "      <td>3</td>\n",
       "      <td>1</td>\n",
       "      <td>0</td>\n",
       "      <td>0</td>\n",
       "      <td>6</td>\n",
       "      <td>3</td>\n",
       "      <td>0</td>\n",
       "      <td>...</td>\n",
       "      <td>0</td>\n",
       "      <td>0</td>\n",
       "      <td>0</td>\n",
       "      <td>0</td>\n",
       "      <td>0</td>\n",
       "      <td>0</td>\n",
       "      <td>0</td>\n",
       "      <td>0</td>\n",
       "      <td>0</td>\n",
       "      <td>0</td>\n",
       "    </tr>\n",
       "    <tr>\n",
       "      <th>4</th>\n",
       "      <td>e3eafe099ef343bc3ade232c4219572a</td>\n",
       "      <td>12</td>\n",
       "      <td>2</td>\n",
       "      <td>3</td>\n",
       "      <td>2</td>\n",
       "      <td>0</td>\n",
       "      <td>1</td>\n",
       "      <td>1</td>\n",
       "      <td>0</td>\n",
       "      <td>3</td>\n",
       "      <td>...</td>\n",
       "      <td>0</td>\n",
       "      <td>0</td>\n",
       "      <td>0</td>\n",
       "      <td>0</td>\n",
       "      <td>0</td>\n",
       "      <td>0</td>\n",
       "      <td>0</td>\n",
       "      <td>0</td>\n",
       "      <td>0</td>\n",
       "      <td>0</td>\n",
       "    </tr>\n",
       "  </tbody>\n",
       "</table>\n",
       "<p>5 rows × 86 columns</p>\n",
       "</div>"
      ],
      "text/plain": [
       "                          ProjectID student school learn classroom help work  \\\n",
       "0  1dd5a2cc7141208616671df62172dfe2       5      1     0         1    0    3   \n",
       "1  5f5d543c5840b3518b280cabd68a5a78       7      2     7         2    1    0   \n",
       "2  b85065c595a38b1ec7583799d0c220ef      12      8     2         1    1    1   \n",
       "3  1e0efc5f3bf4d1ba9e8a0722e4dbcd0e       8      1     3         1    0    0   \n",
       "4  e3eafe099ef343bc3ade232c4219572a      12      2     3         2    0    1   \n",
       "\n",
       "  read love day  ... sport hurricane health volleyball basketball soccer  \\\n",
       "0    2    0   0  ...     0         0      0          0          0      0   \n",
       "1    0    0   0  ...     0         0      1          0          0      0   \n",
       "2    2    4   0  ...     0         0      0          0          0      0   \n",
       "3    6    3   0  ...     0         0      0          0          0      0   \n",
       "4    1    0   3  ...     0         0      0          0          0      0   \n",
       "\n",
       "  college museum paint activity  \n",
       "0       0      0     0        0  \n",
       "1       0      0     0        0  \n",
       "2       0      0     0        0  \n",
       "3       0      0     0        0  \n",
       "4       0      0     0        0  \n",
       "\n",
       "[5 rows x 86 columns]"
      ]
     },
     "execution_count": 7,
     "metadata": {},
     "output_type": "execute_result"
    }
   ],
   "source": [
    "df2.head()"
   ]
  },
  {
   "cell_type": "code",
   "execution_count": 5,
   "metadata": {},
   "outputs": [
    {
     "data": {
      "text/plain": [
       "((646531, 5), (646745, 86), (646517, 53))"
      ]
     },
     "execution_count": 5,
     "metadata": {},
     "output_type": "execute_result"
    }
   ],
   "source": [
    "df1.shape, df2.shape, df3.shape"
   ]
  },
  {
   "cell_type": "code",
   "execution_count": 6,
   "metadata": {},
   "outputs": [],
   "source": [
    "df = df1.merge(df3, left_on = 'Project ID', right_on = 'Project ID').merge(df2, left_on = 'Project ID', right_on = 'ProjectID')\n",
    "df = df[df['Project Current Status'] != 'Live']"
   ]
  },
  {
   "cell_type": "code",
   "execution_count": 7,
   "metadata": {},
   "outputs": [
    {
     "data": {
      "text/plain": [
       "Fully Funded    476709\n",
       "Expired         127969\n",
       "Name: Project Current Status, dtype: int64"
      ]
     },
     "execution_count": 7,
     "metadata": {},
     "output_type": "execute_result"
    }
   ],
   "source": [
    "df['Project Current Status'].value_counts()"
   ]
  },
  {
   "cell_type": "code",
   "execution_count": 8,
   "metadata": {},
   "outputs": [],
   "source": [
    "df['Project Current Status Coded'] = df['Project Current Status'].apply(lambda x: int(x == 'Fully Funded'))"
   ]
  },
  {
   "cell_type": "code",
   "execution_count": 9,
   "metadata": {},
   "outputs": [
    {
     "data": {
      "text/plain": [
       "1    0.788368\n",
       "0    0.211632\n",
       "Name: Project Current Status Coded, dtype: float64"
      ]
     },
     "execution_count": 9,
     "metadata": {},
     "output_type": "execute_result"
    }
   ],
   "source": [
    "df['Project Current Status Coded'].value_counts(normalize=True)"
   ]
  },
  {
   "cell_type": "code",
   "execution_count": 10,
   "metadata": {},
   "outputs": [
    {
     "data": {
      "text/plain": [
       "(604678, 141)"
      ]
     },
     "execution_count": 10,
     "metadata": {},
     "output_type": "execute_result"
    }
   ],
   "source": [
    "del df['Project Current Status']\n",
    "del df['ProjectID']\n",
    "del df['Project ID']\n",
    "df.shape"
   ]
  },
  {
   "cell_type": "code",
   "execution_count": 11,
   "metadata": {},
   "outputs": [
    {
     "data": {
      "text/html": [
       "<div>\n",
       "<style scoped>\n",
       "    .dataframe tbody tr th:only-of-type {\n",
       "        vertical-align: middle;\n",
       "    }\n",
       "\n",
       "    .dataframe tbody tr th {\n",
       "        vertical-align: top;\n",
       "    }\n",
       "\n",
       "    .dataframe thead th {\n",
       "        text-align: right;\n",
       "    }\n",
       "</style>\n",
       "<table border=\"1\" class=\"dataframe\">\n",
       "  <thead>\n",
       "    <tr style=\"text-align: right;\">\n",
       "      <th></th>\n",
       "      <th>X_essay_len</th>\n",
       "      <th>X_essay_?!</th>\n",
       "      <th>X_essay_numbers</th>\n",
       "      <th>Project Valid Time</th>\n",
       "      <th>Project Cost</th>\n",
       "      <th>Teacher Project Posted Sequence</th>\n",
       "      <th>Project Year 2016</th>\n",
       "      <th>Project Year 2017</th>\n",
       "      <th>SUBCAT Literacy</th>\n",
       "      <th>SUBCAT Mathematics</th>\n",
       "      <th>...</th>\n",
       "      <th>hurricane</th>\n",
       "      <th>health</th>\n",
       "      <th>volleyball</th>\n",
       "      <th>basketball</th>\n",
       "      <th>soccer</th>\n",
       "      <th>college</th>\n",
       "      <th>museum</th>\n",
       "      <th>paint</th>\n",
       "      <th>activity</th>\n",
       "      <th>Project Current Status Coded</th>\n",
       "    </tr>\n",
       "  </thead>\n",
       "  <tbody>\n",
       "    <tr>\n",
       "      <th>0</th>\n",
       "      <td>1170</td>\n",
       "      <td>0</td>\n",
       "      <td>1</td>\n",
       "      <td>120.0</td>\n",
       "      <td>509.89</td>\n",
       "      <td>1</td>\n",
       "      <td>1</td>\n",
       "      <td>0</td>\n",
       "      <td>1</td>\n",
       "      <td>0</td>\n",
       "      <td>...</td>\n",
       "      <td>0</td>\n",
       "      <td>0</td>\n",
       "      <td>0</td>\n",
       "      <td>0</td>\n",
       "      <td>0</td>\n",
       "      <td>0</td>\n",
       "      <td>0</td>\n",
       "      <td>0</td>\n",
       "      <td>0</td>\n",
       "      <td>1</td>\n",
       "    </tr>\n",
       "    <tr>\n",
       "      <th>1</th>\n",
       "      <td>1277</td>\n",
       "      <td>0</td>\n",
       "      <td>0</td>\n",
       "      <td>119.0</td>\n",
       "      <td>284.27</td>\n",
       "      <td>16</td>\n",
       "      <td>1</td>\n",
       "      <td>0</td>\n",
       "      <td>1</td>\n",
       "      <td>0</td>\n",
       "      <td>...</td>\n",
       "      <td>0</td>\n",
       "      <td>0</td>\n",
       "      <td>0</td>\n",
       "      <td>0</td>\n",
       "      <td>0</td>\n",
       "      <td>0</td>\n",
       "      <td>0</td>\n",
       "      <td>0</td>\n",
       "      <td>0</td>\n",
       "      <td>0</td>\n",
       "    </tr>\n",
       "    <tr>\n",
       "      <th>2</th>\n",
       "      <td>2075</td>\n",
       "      <td>0</td>\n",
       "      <td>0</td>\n",
       "      <td>120.0</td>\n",
       "      <td>272.92</td>\n",
       "      <td>5</td>\n",
       "      <td>1</td>\n",
       "      <td>0</td>\n",
       "      <td>1</td>\n",
       "      <td>0</td>\n",
       "      <td>...</td>\n",
       "      <td>0</td>\n",
       "      <td>0</td>\n",
       "      <td>0</td>\n",
       "      <td>0</td>\n",
       "      <td>0</td>\n",
       "      <td>0</td>\n",
       "      <td>0</td>\n",
       "      <td>0</td>\n",
       "      <td>1</td>\n",
       "      <td>1</td>\n",
       "    </tr>\n",
       "    <tr>\n",
       "      <th>3</th>\n",
       "      <td>1259</td>\n",
       "      <td>0</td>\n",
       "      <td>0</td>\n",
       "      <td>119.0</td>\n",
       "      <td>189.76</td>\n",
       "      <td>2</td>\n",
       "      <td>1</td>\n",
       "      <td>0</td>\n",
       "      <td>0</td>\n",
       "      <td>0</td>\n",
       "      <td>...</td>\n",
       "      <td>0</td>\n",
       "      <td>0</td>\n",
       "      <td>0</td>\n",
       "      <td>0</td>\n",
       "      <td>0</td>\n",
       "      <td>0</td>\n",
       "      <td>0</td>\n",
       "      <td>0</td>\n",
       "      <td>0</td>\n",
       "      <td>1</td>\n",
       "    </tr>\n",
       "    <tr>\n",
       "      <th>4</th>\n",
       "      <td>1628</td>\n",
       "      <td>1</td>\n",
       "      <td>4</td>\n",
       "      <td>120.0</td>\n",
       "      <td>174.60</td>\n",
       "      <td>9</td>\n",
       "      <td>1</td>\n",
       "      <td>0</td>\n",
       "      <td>1</td>\n",
       "      <td>0</td>\n",
       "      <td>...</td>\n",
       "      <td>0</td>\n",
       "      <td>0</td>\n",
       "      <td>0</td>\n",
       "      <td>0</td>\n",
       "      <td>0</td>\n",
       "      <td>0</td>\n",
       "      <td>0</td>\n",
       "      <td>0</td>\n",
       "      <td>0</td>\n",
       "      <td>1</td>\n",
       "    </tr>\n",
       "  </tbody>\n",
       "</table>\n",
       "<p>5 rows × 141 columns</p>\n",
       "</div>"
      ],
      "text/plain": [
       "   X_essay_len  X_essay_?!  X_essay_numbers  Project Valid Time  Project Cost  \\\n",
       "0         1170           0                1               120.0        509.89   \n",
       "1         1277           0                0               119.0        284.27   \n",
       "2         2075           0                0               120.0        272.92   \n",
       "3         1259           0                0               119.0        189.76   \n",
       "4         1628           1                4               120.0        174.60   \n",
       "\n",
       "   Teacher Project Posted Sequence  Project Year 2016  Project Year 2017  \\\n",
       "0                                1                  1                  0   \n",
       "1                               16                  1                  0   \n",
       "2                                5                  1                  0   \n",
       "3                                2                  1                  0   \n",
       "4                                9                  1                  0   \n",
       "\n",
       "   SUBCAT Literacy  SUBCAT Mathematics  ...  hurricane  health  volleyball  \\\n",
       "0                1                   0  ...          0       0           0   \n",
       "1                1                   0  ...          0       0           0   \n",
       "2                1                   0  ...          0       0           0   \n",
       "3                0                   0  ...          0       0           0   \n",
       "4                1                   0  ...          0       0           0   \n",
       "\n",
       "   basketball  soccer  college  museum  paint  activity  \\\n",
       "0           0       0        0       0      0         0   \n",
       "1           0       0        0       0      0         0   \n",
       "2           0       0        0       0      0         1   \n",
       "3           0       0        0       0      0         0   \n",
       "4           0       0        0       0      0         0   \n",
       "\n",
       "   Project Current Status Coded  \n",
       "0                             1  \n",
       "1                             0  \n",
       "2                             1  \n",
       "3                             1  \n",
       "4                             1  \n",
       "\n",
       "[5 rows x 141 columns]"
      ]
     },
     "execution_count": 11,
     "metadata": {},
     "output_type": "execute_result"
    }
   ],
   "source": [
    "df.head()"
   ]
  },
  {
   "cell_type": "code",
   "execution_count": 12,
   "metadata": {},
   "outputs": [],
   "source": [
    "df_fully_funded = df[df['Project Current Status Coded'] == 1]\n",
    "df_expired = df[df['Project Current Status Coded'] == 0]\n",
    "df_fully_funded = resample(df_fully_funded, n_samples=df_expired.shape[0], replace=False, random_state=0)\n",
    "df_balance = df_fully_funded.append(df_expired)"
   ]
  },
  {
   "cell_type": "code",
   "execution_count": 13,
   "metadata": {},
   "outputs": [],
   "source": [
    "Y = df_balance['Project Current Status Coded']\n",
    "X = df_balance\n",
    "del X['Project Current Status Coded']\n",
    "X_train, X_test, y_train, y_test = train_test_split(X, Y, test_size=0.3, random_state=42)"
   ]
  },
  {
   "cell_type": "code",
   "execution_count": 14,
   "metadata": {},
   "outputs": [
    {
     "data": {
      "text/plain": [
       "((179156, 140), (76782, 140))"
      ]
     },
     "execution_count": 14,
     "metadata": {},
     "output_type": "execute_result"
    }
   ],
   "source": [
    "X_train.shape, X_test.shape"
   ]
  },
  {
   "cell_type": "code",
   "execution_count": 15,
   "metadata": {},
   "outputs": [
    {
     "name": "stderr",
     "output_type": "stream",
     "text": [
      "/Users/xinwen/opt/anaconda3/envs/python3/lib/python3.8/site-packages/sklearn/linear_model/_logistic.py:762: ConvergenceWarning: lbfgs failed to converge (status=1):\n",
      "STOP: TOTAL NO. of ITERATIONS REACHED LIMIT.\n",
      "\n",
      "Increase the number of iterations (max_iter) or scale the data as shown in:\n",
      "    https://scikit-learn.org/stable/modules/preprocessing.html\n",
      "Please also refer to the documentation for alternative solver options:\n",
      "    https://scikit-learn.org/stable/modules/linear_model.html#logistic-regression\n",
      "  n_iter_i = _check_optimize_result(\n"
     ]
    }
   ],
   "source": [
    "clf = LogisticRegression(random_state=0).fit(X_train, y_train)\n",
    "# clf = RandomForestClassifier(random_state=0).fit(X_train, y_train)"
   ]
  },
  {
   "cell_type": "code",
   "execution_count": 16,
   "metadata": {},
   "outputs": [
    {
     "data": {
      "text/plain": [
       "0.647638769503269"
      ]
     },
     "execution_count": 16,
     "metadata": {},
     "output_type": "execute_result"
    }
   ],
   "source": [
    "clf.score(X_test, y_test)"
   ]
  },
  {
   "cell_type": "code",
   "execution_count": 17,
   "metadata": {},
   "outputs": [
    {
     "data": {
      "text/plain": [
       "0    0.501094\n",
       "1    0.498906\n",
       "Name: Project Current Status Coded, dtype: float64"
      ]
     },
     "execution_count": 17,
     "metadata": {},
     "output_type": "execute_result"
    }
   ],
   "source": [
    "y_test.value_counts(normalize=True)"
   ]
  },
  {
   "cell_type": "code",
   "execution_count": 19,
   "metadata": {},
   "outputs": [
    {
     "data": {
      "text/plain": [
       "86"
      ]
     },
     "execution_count": 19,
     "metadata": {},
     "output_type": "execute_result"
    }
   ],
   "source": [
    "len(df2.columns)"
   ]
  },
  {
   "cell_type": "code",
   "execution_count": 22,
   "metadata": {},
   "outputs": [
    {
     "data": {
      "text/plain": [
       "['logit.joblib']"
      ]
     },
     "execution_count": 22,
     "metadata": {},
     "output_type": "execute_result"
    }
   ],
   "source": [
    "dump(clf, 'logit.joblib')"
   ]
  },
  {
   "cell_type": "code",
   "execution_count": 2,
   "metadata": {},
   "outputs": [],
   "source": [
    "clf = load('logit.joblib')"
   ]
  },
  {
   "cell_type": "code",
   "execution_count": 24,
   "metadata": {},
   "outputs": [
    {
     "data": {
      "text/plain": [
       "0.647638769503269"
      ]
     },
     "execution_count": 24,
     "metadata": {},
     "output_type": "execute_result"
    }
   ],
   "source": [
    "clf.score(X_test, y_test)"
   ]
  },
  {
   "cell_type": "code",
   "execution_count": 5,
   "metadata": {},
   "outputs": [
    {
     "data": {
      "text/plain": [
       "array([[ 0.00034537,  0.02106429,  0.01693223,  0.00366984, -0.00087404,\n",
       "         0.00346693, -0.25166271, -0.05981351, -0.02707468, -0.02687656,\n",
       "        -0.03827362, -0.02639298,  0.02549677,  0.00320127,  0.00607152,\n",
       "         0.01884536, -0.0006789 ,  0.00232383,  0.00188457,  0.01334889,\n",
       "        -0.00078331,  0.00433077, -0.00283785, -0.00601775,  0.00592285,\n",
       "         0.00620288,  0.01326817,  0.00041355,  0.02378477,  0.02378477,\n",
       "         0.00284785, -0.00171867,  0.00051407,  0.00099059,  0.00657183,\n",
       "         0.00179959,  0.00090946,  0.00125704, -0.19139181, -0.17403924,\n",
       "         0.07403894,  0.06301674,  0.04563415,  0.03726532,  0.02715105,\n",
       "         0.02379834,  0.00579701,  0.02301083, -0.00973028,  0.0159957 ,\n",
       "         0.01568835,  0.01719021,  0.01298282,  0.01024035,  0.00030884,\n",
       "         0.01199924,  0.02847537, -0.03258168, -0.04419166, -0.01620368,\n",
       "        -0.02483013, -0.08758573,  0.003867  ,  0.01864482, -0.01066426,\n",
       "        -0.00405161,  0.08891123, -0.11808149, -0.03828047, -0.01369875,\n",
       "        -0.03259577, -0.00441581, -0.03598273, -0.03424769, -0.00326812,\n",
       "         0.02515852, -0.03397063, -0.00347756,  0.03116739,  0.00168285,\n",
       "         0.00326205,  0.00421066,  0.03100403, -0.02150299,  0.03893759,\n",
       "         0.02534009,  0.01236679, -0.03720694,  0.00369614, -0.00366209,\n",
       "        -0.00335497,  0.00201152,  0.01722343, -0.01747577,  0.005317  ,\n",
       "        -0.0150144 ,  0.01305385, -0.01429777,  0.02534697,  0.01480922,\n",
       "         0.01682882,  0.05852717, -0.00457745,  0.05797371, -0.01310141,\n",
       "         0.03079512,  0.00391021,  0.00909628,  0.04180442,  0.01280516,\n",
       "         0.0055378 , -0.00931607,  0.00454103,  0.00747785, -0.0290183 ,\n",
       "        -0.01221532,  0.01403594,  0.01316463, -0.02231561,  0.00857448,\n",
       "        -0.01336024, -0.01122912, -0.03274149,  0.01858247,  0.03176419,\n",
       "         0.01069596,  0.00745173,  0.016933  ,  0.0123364 ,  0.05600359,\n",
       "         0.01673045,  0.06168902, -0.00564919,  0.00631956,  0.01736761,\n",
       "         0.01102636, -0.00140293,  0.00349562, -0.00097257, -0.00696328]])"
      ]
     },
     "execution_count": 5,
     "metadata": {},
     "output_type": "execute_result"
    }
   ],
   "source": [
    "clf.coef_"
   ]
  },
  {
   "cell_type": "code",
   "execution_count": 7,
   "metadata": {},
   "outputs": [
    {
     "ename": "AttributeError",
     "evalue": "'LogisticRegression' object has no attribute 'columns'",
     "output_type": "error",
     "traceback": [
      "\u001b[0;31m---------------------------------------------------------------------------\u001b[0m",
      "\u001b[0;31mAttributeError\u001b[0m                            Traceback (most recent call last)",
      "\u001b[0;32m<ipython-input-7-38f10bc81c3f>\u001b[0m in \u001b[0;36m<module>\u001b[0;34m\u001b[0m\n\u001b[0;32m----> 1\u001b[0;31m \u001b[0mclf\u001b[0m\u001b[0;34m.\u001b[0m\u001b[0mcolumns\u001b[0m\u001b[0;34m\u001b[0m\u001b[0;34m\u001b[0m\u001b[0m\n\u001b[0m",
      "\u001b[0;31mAttributeError\u001b[0m: 'LogisticRegression' object has no attribute 'columns'"
     ]
    }
   ],
   "source": [
    "clf"
   ]
  },
  {
   "cell_type": "code",
   "execution_count": null,
   "metadata": {},
   "outputs": [],
   "source": []
  }
 ],
 "metadata": {
  "kernelspec": {
   "display_name": "Python 3",
   "language": "python",
   "name": "python3"
  },
  "language_info": {
   "codemirror_mode": {
    "name": "ipython",
    "version": 3
   },
   "file_extension": ".py",
   "mimetype": "text/x-python",
   "name": "python",
   "nbconvert_exporter": "python",
   "pygments_lexer": "ipython3",
   "version": "3.8.1"
  }
 },
 "nbformat": 4,
 "nbformat_minor": 4
}
