{
 "cells": [
  {
   "cell_type": "code",
   "execution_count": 1,
   "metadata": {},
   "outputs": [],
   "source": [
    "import pyspark\n",
    "from pyspark import SparkContext\n",
    "from pyspark import SQLContext"
   ]
  },
  {
   "cell_type": "code",
   "execution_count": 94,
   "metadata": {},
   "outputs": [],
   "source": [
    "from pyspark.sql.functions import col, udf, collect_list, explode\n",
    "from pyspark.sql.types import ArrayType, StringType\n",
    "import re"
   ]
  },
  {
   "cell_type": "code",
   "execution_count": 3,
   "metadata": {},
   "outputs": [],
   "source": [
    "spc = SparkContext.getOrCreate()\n",
    "sc = SQLContext(spc)\n",
    "if (sc == None or sc._jsc.sc().isStopped()):\n",
    "    print(\"hello\")\n",
    "    sc = SparkContext().Create()"
   ]
  },
  {
   "cell_type": "code",
   "execution_count": 4,
   "metadata": {},
   "outputs": [],
   "source": [
    "df = sc.read.parquet(\"gs://data05839/projects.parquet\").persist(pyspark.StorageLevel.MEMORY_AND_DISK)"
   ]
  },
  {
   "cell_type": "code",
   "execution_count": 5,
   "metadata": {},
   "outputs": [],
   "source": [
    "cols = ['ProjectID', 'SchoolID', 'TeacherID',\n",
    "       'TeacherProjectPostedSequence', 'ProjectType', 'ProjectTitle',\n",
    "       'ProjectEssay', 'ProjectShortDescription', 'ProjectNeedStatement',\n",
    "       'ProjectSubjectCategoryTree', 'ProjectSubjectSubcategoryTree',\n",
    "       'ProjectGradeLevelCategory', 'ProjectResourceCategory',\n",
    "       'ProjectCost', 'ProjectPostedDate', 'ProjectExpirationDate',\n",
    "       'ProjectCurrentStatus', 'ProjectFullyFundedDate' ,'date']"
   ]
  },
  {
   "cell_type": "code",
   "execution_count": 6,
   "metadata": {},
   "outputs": [
    {
     "name": "stdout",
     "output_type": "stream",
     "text": [
      "+--------------------+--------------------+--------------------+----------------------------+-----------+--------------------+--------------------+-----------------------+--------------------+--------------------------+-----------------------------+-------------------------+-----------------------+-----------+-----------------+---------------------+--------------------+----------------------+-------------------+-----------------+\n",
      "|           ProjectID|            SchoolID|           TeacherID|TeacherProjectPostedSequence|ProjectType|        ProjectTitle|        ProjectEssay|ProjectShortDescription|ProjectNeedStatement|ProjectSubjectCategoryTree|ProjectSubjectSubcategoryTree|ProjectGradeLevelCategory|ProjectResourceCategory|ProjectCost|ProjectPostedDate|ProjectExpirationDate|ProjectCurrentStatus|ProjectFullyFundedDate|               date|__index_level_0__|\n",
      "+--------------------+--------------------+--------------------+----------------------------+-----------+--------------------+--------------------+-----------------------+--------------------+--------------------------+-----------------------------+-------------------------+-----------------------+-----------+-----------------+---------------------+--------------------+----------------------+-------------------+-----------------+\n",
      "|f33cbe82c13c37dca...|348ab56c4bbb471c5...|f68bdbcd8cc67be0d...|                          16|Teacher-Led|A Calm, Fresh Sta...|My students are g...|   My students are g...|My students need ...|      Applied Learning,...|         Early Development...|            Grades PreK-2|                  Other|      707.0|       2016-01-01|           2016-04-30|        Fully Funded|            2016-01-04|2016-01-01 00:00:00|           463272|\n",
      "|4f11f8201970c25ea...|af819873bf9909ee5...|2e12fcb1c93d5b667...|                          46|Teacher-Led|Empowering Studen...|Something very dy...|   Something very dy...|My students need ...|      Special Needs, Mu...|         Special Needs, Vi...|               Grades 3-5|               Supplies|     281.36|       2016-01-01|           2016-04-30|        Fully Funded|            2016-01-03|2016-01-01 00:00:00|           463273|\n",
      "|3f76e533ac164d7fa...|55e28307c851a3988...|726a05e5062892ad1...|                           2|Teacher-Led|Life Science - Vi...|Teaching students...|   Teaching students...|My students needs...|            Math & Science|         Health & Life Sci...|              Grades 9-12|             Technology|     507.96|       2016-01-01|           2016-04-30|        Fully Funded|            2016-03-19|2016-01-01 00:00:00|           463274|\n",
      "|60eb772423bba6491...|7f6ea1ea9c7601374...|80a9a3c1224d571f4...|                           7|Teacher-Led|It's A Rock World...|The STEM revoluti...|   The STEM revoluti...|My students need ...|      Math & Science, S...|         Environmental Sci...|               Grades 3-5|               Supplies|     380.49|       2016-01-01|           2016-04-30|        Fully Funded|            2016-01-11|2016-01-01 00:00:00|           463275|\n",
      "|4e876ce907c3bfa80...|73f1affcbcb5a05d8...|850dccad0e4595b87...|                           1|Teacher-Led|Small Group Mater...|During a typical ...|   During a typical ...|My students need ...|       Literacy & Language|                     Literacy|            Grades PreK-2|                  Other|     438.91|       2016-01-01|           2016-04-30|        Fully Funded|            2016-01-16|2016-01-01 00:00:00|           463276|\n",
      "|c50ac668c34c47d36...|e7b459fb879d0b08b...|c88cb75a8449f2e12...|                           1|Teacher-Led|Laminate Our Trou...|Remember how your...|   Remember how your...|My students need ...|      Literacy & Langua...|         Literacy, Special...|              Grades 9-12|               Supplies|     190.69|       2016-01-01|           2016-04-30|        Fully Funded|            2016-01-21|2016-01-01 00:00:00|           463277|\n",
      "|a867f87472be665f6...|6ccf35da3479a7e31...|d4d04560682157460...|                           1|Teacher-Led|Reading, Writing,...|Read-Write-Talk. ...|   Read-Write-Talk. ...|My students need ...|      Applied Learning,...|         College & Career ...|               Grades 6-8|               Supplies|      385.8|       2016-01-01|           2016-04-30|        Fully Funded|            2016-01-07|2016-01-01 00:00:00|           463278|\n",
      "|c1564635029bfdf4d...|708426e4c9ac49606...|e286175e7cb57af16...|                           3|Teacher-Led|Google Technology...|My students love ...|   My students love ...|My students need ...|       Literacy & Language|         Literature & Writing|               Grades 6-8|             Technology|     309.75|       2016-01-01|           2016-04-30|        Fully Funded|            2016-03-09|2016-01-01 00:00:00|           463279|\n",
      "|74c1f2fa76d9e87a1...|52d6cfe2e0d222917...|f51b0194bb029797d...|                           2|Teacher-Led|          Technology|In my classroom, ...|   In my classroom, ...|My students need ...|            Math & Science|                  Mathematics|               Grades 3-5|             Technology|     357.69|       2016-01-01|           2016-04-30|        Fully Funded|            2016-01-07|2016-01-01 00:00:00|           463280|\n",
      "|5764c2ebb396c378a...|4cdc09938e8a398f6...|2b1691d5cf5f07448...|                           1|Teacher-Led|Two Languages...M...|As a passionate b...|   As a passionate b...|My students need ...|      Literacy & Langua...|         Foreign Languages...|               Grades 3-5|                  Other|     685.19|       2016-01-01|           2016-04-30|             Expired|                  null|2016-01-01 00:00:00|           463281|\n",
      "|7a17cddd3581e8eb2...|c064abfc13b691962...|34e84e77bf8c69dd7...|                           2|Teacher-Led|Instrument Securi...|Orchestra class i...|   Orchestra class i...|My students need ...|          Music & The Arts|         Music, Performing...|               Grades 6-8|               Supplies|      786.4|       2016-01-01|           2016-04-30|        Fully Funded|            2016-01-07|2016-01-01 00:00:00|           463282|\n",
      "|47442b2cdfc9ee5cc...|f0f15aa4d4af999c1...|a3a26bc1aef4a044b...|                          18|Teacher-Led|High Interest Rea...|The more you read...|   The more you read...|My students need ...|       Literacy & Language|         Literacy, Literat...|            Grades PreK-2|                  Books|     653.91|       2016-01-01|           2016-04-30|             Expired|                  null|2016-01-01 00:00:00|           463283|\n",
      "|05d123351e488b5af...|792e1c4b2a16beb1d...|5646bb68cceb3244b...|                           2|Teacher-Led|Classroom Supplie...|My class is a com...|   My class is a com...|My students need ...|      Literacy & Langua...|         Literacy, Mathema...|               Grades 3-5|               Supplies|     344.59|       2016-01-01|           2016-04-30|        Fully Funded|            2016-03-09|2016-01-01 00:00:00|           463284|\n",
      "|6b108fcfc20c1602e...|158a130ba5089510f...|afba180e88c15b82b...|                           4|Teacher-Led|Magnetic Math Man...|My students come ...|   My students come ...|My students need ...|      Literacy & Langua...|             ESL, Mathematics|            Grades PreK-2|               Supplies|     213.65|       2016-01-01|           2016-04-30|        Fully Funded|            2016-02-10|2016-01-01 00:00:00|           463285|\n",
      "|e65fb34e87039c017...|a855db81b9820f952...|18574babe46022f7d...|                           3|Teacher-Led|Ready to Learn in...|By the end of the...|   By the end of the...|My students need ...|      Literacy & Langua...|         Literacy, Mathema...|            Grades PreK-2|             Technology|     201.07|       2016-01-01|           2016-04-30|        Fully Funded|            2016-03-09|2016-01-01 00:00:00|           463286|\n",
      "|93b803ed491079b7d...|af9c1ad6e8a41295a...|f7462a90f447414c2...|                           4|Teacher-Led|Help Us Color by ...|There is so much ...|   There is so much ...|My students need ...|      Math & Science, S...|         Mathematics, Spec...|               Grades 6-8|             Technology|    1059.66|       2016-01-01|           2016-04-30|             Expired|                  null|2016-01-01 00:00:00|           463287|\n",
      "|c3c027a4a5e9f0353...|28d0d486be56e2418...|225ad5a8d530acae9...|                           2|Teacher-Led|Classroom Supplie...|My students look ...|   My students look ...|My students need ...|       Literacy & Language|         Literacy, Literat...|            Grades PreK-2|               Supplies|     158.02|       2016-01-01|           2016-04-30|        Fully Funded|            2016-01-20|2016-01-01 00:00:00|           463288|\n",
      "|2aaa47b92bf9ad131...|7fe31b4184e47b760...|daf8579ba7822b7e4...|                           3|Teacher-Led|One-to-One Chrome...|A typical day in ...|   A typical day in ...|My students need ...|      Literacy & Langua...|         Literature & Writ...|               Grades 3-5|             Technology|     930.82|       2016-01-01|           2016-04-30|        Fully Funded|            2016-01-22|2016-01-01 00:00:00|           463289|\n",
      "|87a5fe55a106305c7...|3acacd2b103ee657a...|7049b78c2fdfb9ec7...|                           5|Teacher-Led|Building Student ...|My students are h...|   My students are h...|My students need ...|          Music & The Arts|                        Music|               Grades 6-8|               Supplies|     203.98|       2016-01-01|           2016-04-30|        Fully Funded|            2016-01-19|2016-01-01 00:00:00|           463290|\n",
      "|9a18f9a269a265154...|7c6dbbe994388f3aa...|cc29a8cec4c8fb37e...|                           3|Teacher-Led|Reading Into the ...|\"The more that yo...|   \"The more that yo...|My students need ...|       Literacy & Language|                     Literacy|               Grades 6-8|             Technology|     364.27|       2016-01-01|           2016-04-30|             Expired|                  null|2016-01-01 00:00:00|           463291|\n",
      "+--------------------+--------------------+--------------------+----------------------------+-----------+--------------------+--------------------+-----------------------+--------------------+--------------------------+-----------------------------+-------------------------+-----------------------+-----------+-----------------+---------------------+--------------------+----------------------+-------------------+-----------------+\n",
      "only showing top 20 rows\n",
      "\n"
     ]
    }
   ],
   "source": [
    "df.show()"
   ]
  },
  {
   "cell_type": "code",
   "execution_count": 74,
   "metadata": {},
   "outputs": [
    {
     "data": {
      "text/plain": [
       "0"
      ]
     },
     "execution_count": 74,
     "metadata": {},
     "output_type": "execute_result"
    }
   ],
   "source": [
    "df.filter(col(\"ProjectID\").isNull()).count()"
   ]
  },
  {
   "cell_type": "code",
   "execution_count": 22,
   "metadata": {},
   "outputs": [
    {
     "data": {
      "text/plain": [
       "[Row(ProjectResourceCategory='Visitors', count=1696),\n",
       " Row(ProjectResourceCategory='Musical Instruments', count=4066),\n",
       " Row(ProjectResourceCategory='Food, Clothing & Hygiene', count=5438),\n",
       " Row(ProjectResourceCategory='Sports & Exercise Equipment', count=6733),\n",
       " Row(ProjectResourceCategory='Lab Equipment', count=7436),\n",
       " Row(ProjectResourceCategory='Art Supplies', count=8782),\n",
       " Row(ProjectResourceCategory='Classroom Basics', count=11862),\n",
       " Row(ProjectResourceCategory='Other', count=11862),\n",
       " Row(ProjectResourceCategory='Trips', count=13306),\n",
       " Row(ProjectResourceCategory='Flexible Seating', count=14425),\n",
       " Row(ProjectResourceCategory='Reading Nooks, Desks & Storage', count=15327),\n",
       " Row(ProjectResourceCategory='Instructional Technology', count=18957),\n",
       " Row(ProjectResourceCategory='Educational Kits & Games', count=22051),\n",
       " Row(ProjectResourceCategory='Computers & Tablets', count=32915),\n",
       " Row(ProjectResourceCategory='Books', count=107177),\n",
       " Row(ProjectResourceCategory='Technology', count=130102),\n",
       " Row(ProjectResourceCategory='Supplies', count=234610)]"
      ]
     },
     "execution_count": 22,
     "metadata": {},
     "output_type": "execute_result"
    }
   ],
   "source": [
    "df.groupBy('ProjectResourceCategory').count().orderBy('count').collect()"
   ]
  },
  {
   "cell_type": "code",
   "execution_count": 60,
   "metadata": {},
   "outputs": [
    {
     "data": {
      "text/plain": [
       "PythonRDD[133] at RDD at PythonRDD.scala:53"
      ]
     },
     "execution_count": 60,
     "metadata": {},
     "output_type": "execute_result"
    }
   ],
   "source": [
    "rdd_word_cnts.unpersist()"
   ]
  },
  {
   "cell_type": "code",
   "execution_count": 61,
   "metadata": {},
   "outputs": [],
   "source": [
    "df_resource = df.filter(\"ProjectResourceCategory = 'Art Supplies'\")\n",
    "rdd_words = df_resource.select('ProjectEssay').rdd\\\n",
    "              .flatMap(lambda x: x).flatMap(lambda x: re.split(r\"[^a-z-']+\", x.lower()))"
   ]
  },
  {
   "cell_type": "code",
   "execution_count": 62,
   "metadata": {},
   "outputs": [],
   "source": [
    "rdd_word_cnts = rdd_words.map(lambda x: (x, 1)).reduceByKey(lambda a, b: a+b).cache()"
   ]
  },
  {
   "cell_type": "code",
   "execution_count": 63,
   "metadata": {},
   "outputs": [
    {
     "data": {
      "text/plain": [
       "[('are', 34915),\n",
       " ('diverse', 2084),\n",
       " ('of', 51416),\n",
       " ('person', 208),\n",
       " ('learners', 2589),\n",
       " ('have', 21722),\n",
       " ('high', 2846),\n",
       " ('group', 2420),\n",
       " ('implementing', 60),\n",
       " ('start', 903)]"
      ]
     },
     "execution_count": 63,
     "metadata": {},
     "output_type": "execute_result"
    }
   ],
   "source": [
    "rdd_word_cnts.take(10)"
   ]
  },
  {
   "cell_type": "code",
   "execution_count": 64,
   "metadata": {},
   "outputs": [],
   "source": [
    "stopwords = {'i', 'me', 'my', 'myself', 'we', 'our', 'ours', 'ourselves', 'you', \"you're\", \"you've\", \n",
    "             \"you'll\", \"you'd\", 'your', 'yours', 'yourself', 'yourselves', 'he', 'him', 'his', 'himself', \n",
    "             'she', \"she's\", 'her', 'hers', 'herself', 'it', \"it's\", 'its', 'itself', 'they', 'them', 'their', \n",
    "             'theirs', 'themselves', 'what', 'which', 'who', 'whom', 'this', 'that', \"that'll\", 'these', \n",
    "             'those', 'am', 'is', 'are', 'was', 'were', 'be', 'been', 'being', 'have', 'has', 'had', \n",
    "             'having', 'do', 'does', 'did', 'doing', 'a', 'an', 'the', 'and', 'but', 'if', 'or', 'because', \n",
    "             'as', 'until', 'while', 'of', 'at', 'by', 'for', 'with', 'about', 'against', 'between', 'into', \n",
    "             'through', 'during', 'before', 'after', 'above', 'below', 'to', 'from', 'up', 'down', 'in', 'out', \n",
    "             'on', 'off', 'over', 'under', 'again', 'further', 'then', 'once', 'here', 'there', 'when', 'where', \n",
    "             'why', 'how', 'all', 'any', 'both', 'each', 'few', 'more', 'most', 'other', 'some', 'such', 'no', \n",
    "             'nor', 'not', 'only', 'own', 'same', 'so', 'than', 'too', 'very', 's', 't', 'can', 'will', 'just', \n",
    "             'don', \"don't\", 'should', \"should've\", 'now', 'd', 'll', 'm', 'o', 're', 've', 'y', 'ain', 'aren', \n",
    "             \"aren't\", 'couldn', \"couldn't\", 'didn', \"didn't\", 'doesn', \"doesn't\", 'hadn', \"hadn't\", 'hasn', \n",
    "             \"hasn't\", 'haven', \"haven't\", 'isn', \"isn't\", 'ma', 'mightn', \"mightn't\", 'mustn', \"mustn't\", \n",
    "             'needn', \"needn't\", 'shan', \"shan't\", 'shouldn', \"shouldn't\", 'wasn', \"wasn't\", 'weren', \"weren't\", \n",
    "             'won', \"won't\", 'wouldn', \"wouldn't\"}"
   ]
  },
  {
   "cell_type": "code",
   "execution_count": 65,
   "metadata": {},
   "outputs": [],
   "source": [
    "rdd_word_cnts_filtered_sorted = rdd_word_cnts.filter(lambda x: x[0] not in stopwords)\\\n",
    "                                             .takeOrdered(300, key = lambda x: -x[1])"
   ]
  },
  {
   "cell_type": "code",
   "execution_count": 66,
   "metadata": {},
   "outputs": [
    {
     "data": {
      "text/plain": [
       "['students',\n",
       " 'school',\n",
       " '--donotremoveessaydivider--',\n",
       " 'art',\n",
       " 'learning',\n",
       " 'classroom',\n",
       " 'help',\n",
       " 'learn',\n",
       " '',\n",
       " 'many',\n",
       " 'need',\n",
       " 'create',\n",
       " 'use',\n",
       " 'materials',\n",
       " 'supplies',\n",
       " 'work',\n",
       " 'make',\n",
       " 'love',\n",
       " 'come',\n",
       " 'new',\n",
       " 'class',\n",
       " 'year',\n",
       " 'able',\n",
       " 'also',\n",
       " 'day',\n",
       " 'would',\n",
       " 'projects',\n",
       " 'project',\n",
       " 'skills',\n",
       " 'want',\n",
       " 'children',\n",
       " 'paper',\n",
       " 'one',\n",
       " 'creative',\n",
       " 'time',\n",
       " 'every',\n",
       " 'different',\n",
       " 'like',\n",
       " 'get',\n",
       " 'student',\n",
       " 'community',\n",
       " 'allow',\n",
       " 'paint',\n",
       " 'provide',\n",
       " 'using',\n",
       " 'teach',\n",
       " 'used',\n",
       " 'grade',\n",
       " 'activities',\n",
       " 'way',\n",
       " 'free',\n",
       " 'fun',\n",
       " 'high',\n",
       " 'us',\n",
       " 'life',\n",
       " 'world',\n",
       " 'science',\n",
       " 'best',\n",
       " 'well',\n",
       " 'math',\n",
       " 'kids',\n",
       " 'opportunity',\n",
       " 'learners',\n",
       " 'see',\n",
       " 'give',\n",
       " 'education',\n",
       " 'language',\n",
       " 'markers',\n",
       " 'needs',\n",
       " 'families',\n",
       " 'first',\n",
       " 'experience',\n",
       " 'teacher',\n",
       " 'group',\n",
       " 'home',\n",
       " 'things',\n",
       " 'lunch',\n",
       " 'special',\n",
       " 'reading',\n",
       " 'creating',\n",
       " 'working',\n",
       " 'arts',\n",
       " 'writing',\n",
       " 'great',\n",
       " 'excited',\n",
       " 'explore',\n",
       " 'creativity',\n",
       " 'much',\n",
       " 'variety',\n",
       " 'diverse',\n",
       " 'small',\n",
       " 'hard',\n",
       " 'eager',\n",
       " 'take',\n",
       " 'experiences',\n",
       " 'support',\n",
       " 'always',\n",
       " 'english',\n",
       " 'environment',\n",
       " 'important',\n",
       " 'making',\n",
       " 'program',\n",
       " 'place',\n",
       " 'title',\n",
       " 'pencils',\n",
       " 'even',\n",
       " 'tools',\n",
       " 'challenges',\n",
       " 'glue',\n",
       " 'resources',\n",
       " 'daily',\n",
       " 'amazing',\n",
       " 'opportunities',\n",
       " 'express',\n",
       " 'know',\n",
       " 'together',\n",
       " 'items',\n",
       " 'kindergarten',\n",
       " 'hands-on',\n",
       " 'build',\n",
       " 'receive',\n",
       " 'keep',\n",
       " 'feel',\n",
       " 'th',\n",
       " 'backgrounds',\n",
       " 'design',\n",
       " 'room',\n",
       " 'area',\n",
       " 'become',\n",
       " 'ways',\n",
       " 'color',\n",
       " 'low',\n",
       " 'around',\n",
       " 'crayons',\n",
       " 'basic',\n",
       " 'books',\n",
       " 'show',\n",
       " 'play',\n",
       " 'teaching',\n",
       " 'enjoy',\n",
       " 'years',\n",
       " 'part',\n",
       " 'often',\n",
       " 'better',\n",
       " 'clay',\n",
       " 'parents',\n",
       " 'academic',\n",
       " 'poverty',\n",
       " 'successful',\n",
       " 'district',\n",
       " 'ready',\n",
       " 'painting',\n",
       " 'classes',\n",
       " 'go',\n",
       " 'little',\n",
       " 'order',\n",
       " 'lives',\n",
       " 'technology',\n",
       " 'teachers',\n",
       " 'social',\n",
       " 'may',\n",
       " 'graders',\n",
       " 'something',\n",
       " 'level',\n",
       " 'hands',\n",
       " 'building',\n",
       " 'throughout',\n",
       " 'positive',\n",
       " 'goal',\n",
       " 'bring',\n",
       " 'practice',\n",
       " '-',\n",
       " 'various',\n",
       " 'family',\n",
       " 'read',\n",
       " 'easel',\n",
       " 'ideas',\n",
       " 'unique',\n",
       " 'develop',\n",
       " 'lessons',\n",
       " 'access',\n",
       " 'colored',\n",
       " 'future',\n",
       " 'continue',\n",
       " 'share',\n",
       " 'young',\n",
       " 'words',\n",
       " 'needed',\n",
       " 'lot',\n",
       " 'wonderful',\n",
       " 'without',\n",
       " 'process',\n",
       " 'really',\n",
       " 'colors',\n",
       " 'complete',\n",
       " 'visual',\n",
       " 'others',\n",
       " 'safe',\n",
       " 'face',\n",
       " 'full']"
      ]
     },
     "execution_count": 66,
     "metadata": {},
     "output_type": "execute_result"
    }
   ],
   "source": [
    "[a for a, b in rdd_word_cnts_filtered_sorted[:200]]"
   ]
  },
  {
   "cell_type": "markdown",
   "metadata": {},
   "source": [
    "## remove \"ing\" in the tokens before computing word features, try s and no s as plural"
   ]
  },
  {
   "cell_type": "code",
   "execution_count": 71,
   "metadata": {},
   "outputs": [],
   "source": [
    "word_feats = ['student', 'school', 'learn', 'classroom', 'help', 'work', 'read', 'love','day','class','skill','book',\n",
    " 'technology', 'time', 'one', 'math', 'material','grade','children','different','project','teach','like',\n",
    " 'world','create','best','learners','science','education','community','language','home','activities','free',\n",
    " 'access','opportunity','life','first','fun','hard','environment',\n",
    " 'lunch','resource','experience', 'opportunities','excited','diverse','eager','play','art',\n",
    " 'challenge','creative','goal','music','amazing','social',\n",
    " 'poverty','games','hands-on','research','knowledge','engaging','safe','computer','literacy','reduced',\n",
    " 'however','comfortable', 'band', 'instrument', 'musical', 'healthy', 'breakfast', 'hungry', 'team', 'sport',\n",
    " 'hurricane', 'health', 'volleyball', 'basketball', 'soccer', 'college', 'museum', 'paint', 'activity']"
   ]
  },
  {
   "cell_type": "markdown",
   "metadata": {},
   "source": [
    "## process df to get word features"
   ]
  },
  {
   "cell_type": "code",
   "execution_count": 72,
   "metadata": {},
   "outputs": [
    {
     "data": {
      "text/plain": [
       "85"
      ]
     },
     "execution_count": 72,
     "metadata": {},
     "output_type": "execute_result"
    }
   ],
   "source": [
    "len(word_feats)"
   ]
  },
  {
   "cell_type": "code",
   "execution_count": 87,
   "metadata": {},
   "outputs": [],
   "source": [
    "@udf(returnType=ArrayType(StringType()))\n",
    "def get_feats(ProjectID, text):\n",
    "    tokens = re.split(r\"[^a-z-']+\", text.lower())\n",
    "    L = [0] * len(word_feats)\n",
    "    for i in range(0, len(word_feats)):\n",
    "        f = word_feats[i]\n",
    "        for t in tokens:\n",
    "            if t.endswith('s'):\n",
    "                if t == f or t[:-1] == f:\n",
    "                    L[i] += 1\n",
    "            elif t.endswith('ing'):\n",
    "                if t == f or t[:-3] == f:\n",
    "                    L[i] += 1\n",
    "            else:\n",
    "                if t == f:\n",
    "                    L[i] += 1\n",
    "    return [ProjectID] + [str(cnt) for cnt in L]\n",
    "                "
   ]
  },
  {
   "cell_type": "code",
   "execution_count": 91,
   "metadata": {},
   "outputs": [],
   "source": [
    "df = df.repartition(200)"
   ]
  },
  {
   "cell_type": "code",
   "execution_count": 92,
   "metadata": {},
   "outputs": [],
   "source": [
    "feats = df.select(get_feats(\"ProjectID\", \"ProjectEssay\")) \\\n",
    "          .persist(pyspark.StorageLevel.MEMORY_AND_DISK)"
   ]
  },
  {
   "cell_type": "code",
   "execution_count": 93,
   "metadata": {},
   "outputs": [
    {
     "name": "stdout",
     "output_type": "stream",
     "text": [
      "+----------------------------------+\n",
      "|get_feats(ProjectID, ProjectEssay)|\n",
      "+----------------------------------+\n",
      "|              [1dd5a2cc71412086...|\n",
      "|              [5f5d543c5840b351...|\n",
      "|              [b85065c595a38b1e...|\n",
      "|              [1e0efc5f3bf4d1ba...|\n",
      "|              [e3eafe099ef343bc...|\n",
      "|              [a6a65c0b2471debf...|\n",
      "|              [8bfd9415970c5dee...|\n",
      "|              [c982c1fc953b696e...|\n",
      "|              [ea9c9e1ea82c503a...|\n",
      "|              [2e7a6b6acdc39905...|\n",
      "|              [23432099b09ddf9c...|\n",
      "|              [c7afb1d9a066ffe2...|\n",
      "|              [24d18dd85562a813...|\n",
      "|              [019ee6bba8809ff6...|\n",
      "|              [9c157043f300ced6...|\n",
      "|              [9686fb2974418dec...|\n",
      "|              [7c852f2c7173e662...|\n",
      "|              [e2845c6c8380865b...|\n",
      "|              [067be7698fb07d98...|\n",
      "|              [291576d5cf84bf6d...|\n",
      "+----------------------------------+\n",
      "only showing top 20 rows\n",
      "\n"
     ]
    }
   ],
   "source": [
    "feats.show()"
   ]
  },
  {
   "cell_type": "code",
   "execution_count": 104,
   "metadata": {},
   "outputs": [],
   "source": [
    "cols = [\"ProjectID\"] + word_feats\n",
    "\n",
    "df_feats = feats.rdd.map(lambda x: tuple(x[\"get_feats(ProjectID, ProjectEssay)\"])).toDF(cols)\\\n",
    "                    .persist(pyspark.StorageLevel.MEMORY_AND_DISK)"
   ]
  },
  {
   "cell_type": "code",
   "execution_count": null,
   "metadata": {},
   "outputs": [
    {
     "data": {
      "text/plain": [
       "646745"
      ]
     },
     "execution_count": 105,
     "metadata": {},
     "output_type": "execute_result"
    }
   ],
   "source": [
    "df_feats.count()"
   ]
  },
  {
   "cell_type": "code",
   "execution_count": 106,
   "metadata": {},
   "outputs": [
    {
     "name": "stdout",
     "output_type": "stream",
     "text": [
      "+--------------------+-------+------+-----+---------+----+----+----+----+---+-----+-----+----+----------+----+---+----+--------+-----+--------+---------+-------+-----+----+-----+------+----+--------+-------+---------+---------+--------+----+----------+----+------+-----------+----+-----+---+----+-----------+-----+--------+----------+-------------+-------+-------+-----+----+---+---------+--------+----+-----+-------+------+-------+-----+--------+--------+---------+--------+----+--------+--------+-------+-------+-----------+----+----------+-------+-------+---------+------+----+-----+---------+------+----------+----------+------+-------+------+-----+--------+\n",
      "|           ProjectID|student|school|learn|classroom|help|work|read|love|day|class|skill|book|technology|time|one|math|material|grade|children|different|project|teach|like|world|create|best|learners|science|education|community|language|home|activities|free|access|opportunity|life|first|fun|hard|environment|lunch|resource|experience|opportunities|excited|diverse|eager|play|art|challenge|creative|goal|music|amazing|social|poverty|games|hands-on|research|knowledge|engaging|safe|computer|literacy|reduced|however|comfortable|band|instrument|musical|healthy|breakfast|hungry|team|sport|hurricane|health|volleyball|basketball|soccer|college|museum|paint|activity|\n",
      "+--------------------+-------+------+-----+---------+----+----+----+----+---+-----+-----+----+----------+----+---+----+--------+-----+--------+---------+-------+-----+----+-----+------+----+--------+-------+---------+---------+--------+----+----------+----+------+-----------+----+-----+---+----+-----------+-----+--------+----------+-------------+-------+-------+-----+----+---+---------+--------+----+-----+-------+------+-------+-----+--------+--------+---------+--------+----+--------+--------+-------+-------+-----------+----+----------+-------+-------+---------+------+----+-----+---------+------+----------+----------+------+-------+------+-----+--------+\n",
      "|1dd5a2cc714120861...|      5|     1|    0|        1|   0|   3|   2|   0|  0|    0|    0|   1|         3|   1|  0|   1|       0|    2|       0|        1|      0|    1|   1|    0|     0|   0|       0|      0|        0|        0|       0|   0|         1|   0|     1|          0|   0|    0|  0|   0|          0|    0|       0|         0|            1|      0|      0|    0|   0|  0|        0|       0|   0|    0|      0|     0|      0|    0|       0|       0|        0|       0|   0|       1|       0|      0|      0|          0|   0|         0|      0|      0|        0|     0|   0|    0|        0|     0|         0|         0|     0|      0|     0|    0|       0|\n",
      "|5f5d543c5840b3518...|      7|     2|    7|        2|   1|   0|   0|   0|  0|    0|    0|   0|         0|   0|  0|   0|       0|    0|       0|        0|      0|    0|   0|    0|     0|   0|       0|      0|        0|        0|       0|   0|         0|   1|     0|          0|   1|    0|  0|   0|          0|    1|       1|         0|            0|      0|      0|    0|   0|  0|        0|       0|   0|    0|      0|     0|      0|    0|       0|       0|        0|       0|   0|       0|       0|      0|      0|          0|   0|         0|      0|      0|        1|     0|   0|    0|        0|     1|         0|         0|     0|      0|     0|    0|       0|\n",
      "|b85065c595a38b1ec...|     12|     8|    2|        1|   1|   1|   2|   4|  0|    0|    0|   4|         0|   0|  2|   0|       0|    0|       0|        0|      0|    0|   0|    0|     0|   1|       0|      0|        1|        0|       0|   0|         0|   0|     0|          0|   0|    0|  0|   0|          0|    0|       2|         2|            0|      0|      0|    0|   0|  0|        0|       0|   0|    0|      0|     2|      2|    0|       0|       0|        0|       0|   0|       0|       0|      0|      0|          0|   0|         0|      0|      0|        0|     0|   0|    0|        0|     0|         0|         0|     0|      0|     0|    0|       0|\n",
      "|1e0efc5f3bf4d1ba9...|      8|     1|    3|        1|   0|   0|   6|   3|  0|    0|    0|   4|         0|   0|  2|   0|       1|    0|       0|        1|      0|    1|   1|    0|     1|   0|       0|      1|        0|        0|       0|   1|         0|   1|     0|          0|   0|    1|  0|   0|          1|    1|       0|         0|            0|      0|      1|    0|   0|  1|        0|       0|   0|    0|      0|     0|      0|    0|       1|       0|        0|       0|   0|       0|       0|      1|      0|          0|   0|         0|      0|      0|        1|     0|   0|    0|        0|     0|         0|         0|     0|      0|     0|    0|       0|\n",
      "|e3eafe099ef343bc3...|     12|     2|    3|        2|   0|   1|   1|   0|  3|    0|    0|   0|         3|   0|  0|   0|       0|    4|       0|        0|      0|    1|   2|    0|     0|   0|       0|      0|        1|        0|       0|   0|         1|   0|     0|          1|   0|    2|  0|   0|          0|    0|       1|         0|            1|      0|      0|    0|   0|  0|        0|       0|   0|    0|      0|     0|      0|    0|       0|       0|        0|       0|   0|       0|       0|      0|      0|          0|   0|         0|      0|      0|        0|     0|   0|    0|        0|     0|         0|         0|     0|      0|     0|    0|       0|\n",
      "|a6a65c0b2471debf7...|      3|     1|    4|        0|   2|   2|   0|   2|  0|    0|    1|   0|         0|   1|  1|   1|       0|    1|       2|        0|      0|    0|   0|    0|     2|   0|       2|      1|        0|        0|       0|   1|         0|   1|     0|          1|   0|    0|  0|   0|          0|    1|       1|         0|            2|      0|      0|    1|   2|  0|        0|       1|   0|    0|      0|     0|      0|    0|       0|       0|        0|       0|   0|       0|       0|      1|      0|          0|   0|         0|      0|      0|        0|     0|   0|    0|        0|     0|         0|         0|     0|      0|     0|    0|       0|\n",
      "|8bfd9415970c5dee0...|      7|     3|    0|        2|   3|   2|   0|   0|  1|    1|    1|   0|         0|   0|  2|   0|       0|    2|       2|        1|      2|    0|   0|    0|     0|   2|       1|      0|        1|        0|       1|   0|         0|   0|     0|          0|   0|    1|  0|   0|          0|    0|       0|         0|            0|      0|      0|    0|   0|  0|        2|       0|   0|    0|      0|     0|      0|    0|       0|       0|        0|       0|   0|       0|       0|      0|      0|          0|   0|         0|      0|      0|        0|     0|   0|    0|        0|     0|         0|         0|     0|      0|     0|    0|       0|\n",
      "|c982c1fc953b696ec...|     10|     3|   11|        7|   1|   0|   3|   3|  3|    0|    0|   3|         0|   1|  0|   1|       1|    0|       1|        0|      1|    0|   0|    0|     0|   0|       0|      0|        0|        0|       0|   3|         0|   0|     0|          0|   1|    0|  0|   0|          0|    0|       0|         0|            0|      1|      0|    0|   1|  0|        0|       0|   0|    0|      0|     0|      0|    0|       0|       0|        0|       0|   1|       0|       0|      0|      1|          2|   0|         0|      0|      0|        0|     0|   0|    0|        0|     0|         0|         0|     0|      0|     0|    0|       0|\n",
      "|ea9c9e1ea82c503a7...|      8|     2|    3|        4|   4|   1|   1|   0|  0|    2|    0|   0|         0|   1|  0|   1|       0|    0|       0|        2|      0|    0|   0|    0|     2|   1|       2|      0|        2|        0|       1|   0|         0|   1|     0|          0|   0|    0|  1|   1|          0|    1|       0|         0|            0|      2|      0|    1|   0|  2|        0|       0|   1|    0|      0|     0|      1|    0|       0|       1|        0|       0|   0|       0|       0|      1|      1|          0|   0|         0|      0|      0|        1|     0|   0|    0|        0|     0|         0|         0|     0|      0|     0|    0|       0|\n",
      "|2e7a6b6acdc399059...|      7|     5|    2|        0|   2|   0|   0|   0|  0|    1|    0|   0|         0|   0|  2|   0|       0|    1|       0|        0|      0|    2|   0|    0|     0|   2|       0|      0|        0|        1|       0|   1|         0|   0|     1|          0|   0|    0|  1|   0|          0|    0|       0|         0|            0|      0|      0|    1|   0|  0|        0|       0|   0|    0|      0|     0|      0|    0|       0|       0|        0|       0|   0|       0|       0|      0|      0|          0|   0|         0|      0|      0|        0|     0|   0|    0|        0|     1|         0|         0|     0|      0|     0|    0|       0|\n",
      "|23432099b09ddf9c2...|      0|     1|    1|        4|   4|   0|   0|   3|  0|    0|    0|   0|         0|   3|  1|   4|       0|    2|       0|        1|      2|    1|   0|    1|     0|   0|       0|      0|        0|        0|       0|   0|         0|   0|     0|          0|   0|    0|  0|   0|          0|    0|       0|         0|            0|      0|      0|    0|   0|  0|        0|       0|   0|    0|      0|     0|      0|    0|       0|       0|        0|       0|   0|       0|       0|      0|      1|          0|   0|         0|      0|      0|        0|     0|   0|    0|        0|     0|         0|         0|     0|      0|     0|    0|       0|\n",
      "|c7afb1d9a066ffe25...|      5|     3|    3|        0|   1|   0|   1|   2|  0|    0|    0|   0|         6|   0|  0|   0|       0|    0|       0|        0|      0|    0|   1|    1|     0|   0|       0|      0|        0|        1|       0|   3|         0|   0|     2|          0|   0|    0|  0|   0|          0|    0|       0|         2|            0|      1|      0|    0|   0|  0|        0|       0|   0|    0|      0|     0|      0|    0|       0|       1|        3|       0|   0|       0|       0|      0|      0|          1|   0|         0|      0|      0|        0|     0|   0|    0|        0|     0|         0|         0|     0|      0|     0|    0|       0|\n",
      "|24d18dd85562a813b...|      5|     1|    2|        0|   1|   1|   3|   0|  1|    0|    0|   5|         0|   0|  0|   0|       0|    0|       0|        0|      2|    0|   0|    0|     0|   1|       0|      0|        0|        0|       0|   4|         0|   0|     0|          1|   0|    0|  3|   0|          0|    0|       0|         0|            0|      1|      0|    1|   0|  0|        1|       1|   0|    0|      0|     0|      0|    0|       0|       0|        0|       0|   0|       0|       0|      0|      1|          0|   0|         0|      0|      0|        0|     0|   0|    0|        0|     0|         0|         0|     0|      0|     0|    0|       0|\n",
      "|019ee6bba8809ff61...|      9|     2|    6|        2|   2|   0|   0|   0|  0|    2|    4|   1|         0|   0|  0|   9|       0|    3|       0|        0|      2|    1|   0|    0|     2|   0|       0|      0|        2|        1|       0|   0|         2|   0|     0|          1|   2|    0|  2|   0|          0|    0|       1|         0|            0|      0|      1|    0|   2|  0|        0|       0|   0|    0|      0|     0|      0|    1|       4|       0|        2|       0|   0|       0|       1|      0|      0|          0|   1|         0|      0|      1|        0|     0|   0|    2|        0|     0|         0|         0|     0|      0|     0|    0|       0|\n",
      "|9c157043f300ced66...|      9|     1|    2|        3|   2|   3|   0|   1|  0|    0|    3|   0|         4|   2|  0|   0|       0|    0|       2|        0|      0|    1|   1|    1|     0|   0|       2|      0|        0|        0|       3|   1|         0|   0|     0|          2|   0|    0|  1|   1|          0|    0|       0|         0|            1|      0|      0|    0|   0|  0|        2|       0|   0|    0|      0|     1|      0|    0|       0|       0|        0|       0|   0|       0|       0|      0|      0|          0|   0|         0|      0|      0|        0|     0|   0|    0|        0|     0|         0|         0|     0|      0|     0|    0|       0|\n",
      "|9686fb2974418decb...|      9|     2|    0|        0|   2|   0|   0|   0|  0|    1|    0|   5|         0|   0|  0|   0|       0|    0|       0|        0|      0|    0|   0|    0|     0|   0|       0|      0|        0|        0|       0|   0|         0|   5|     0|          0|   0|    0|  0|   0|          0|    1|       0|         0|            0|      0|      0|    0|   0|  0|        0|       0|   0|    0|      0|     0|      0|    0|       0|       0|        1|       0|   0|       0|       0|      1|      1|          0|   0|         0|      0|      0|        0|     0|   0|    0|        0|     0|         0|         0|     0|      5|     0|    0|       0|\n",
      "|7c852f2c7173e662c...|      5|     3|    1|        1|   0|   1|   0|   0|  1|    1|    1|   0|         4|   1|  0|   0|       0|    0|       0|        0|      0|    1|   0|    2|     0|   0|       0|      0|        1|        0|       0|   0|         1|   1|     0|          0|   0|    0|  0|   0|          0|    1|       1|         0|            0|      1|      0|    0|   0|  0|        0|       2|   0|    0|      0|     0|      0|    0|       0|       0|        0|       2|   0|       0|       0|      0|      0|          0|   0|         0|      0|      0|        1|     0|   0|    0|        0|     0|         0|         0|     0|      0|     0|    0|       0|\n",
      "|e2845c6c8380865b1...|     11|     3|    3|        3|   1|   0|   1|   0|  0|    1|    0|   0|         4|   0|  0|   0|       0|    0|       0|        0|      0|    1|   0|    0|     0|   0|       0|      0|        0|        0|       0|   1|         0|   1|     2|          0|   0|    0|  0|   0|          0|    1|       1|         1|            0|      0|      0|    0|   0|  0|        0|       0|   0|    0|      0|     0|      0|    0|       0|       0|        0|       0|   0|       2|       0|      1|      0|          0|   0|         0|      0|      0|        0|     0|   0|    0|        0|     0|         0|         0|     0|      1|     0|    0|       0|\n",
      "|067be7698fb07d98b...|      5|     2|    4|        4|   2|   0|   0|   0|  1|    2|    0|   0|         3|   0|  0|   3|       0|    1|       1|        1|      1|    0|   0|    1|     1|   0|       1|      0|        0|        0|       0|   0|         0|   0|     0|          0|   0|    0|  0|   0|          0|    0|       0|         1|            2|      0|      0|    1|   0|  0|        0|       0|   0|    0|      0|     0|      0|    1|       0|       1|        0|       0|   0|       1|       0|      0|      0|          0|   0|         0|      0|      0|        0|     0|   0|    0|        0|     0|         0|         0|     0|      0|     0|    0|       0|\n",
      "|291576d5cf84bf6d7...|     11|     4|    4|        0|   5|   1|   2|   1|  0|    0|    3|   1|         0|   0|  0|   1|       2|    1|       1|        0|      0|    1|   0|    1|     0|   0|       1|      4|        0|        0|       0|   0|         1|   1|     0|          1|   1|    0|  0|   0|          0|    1|       0|         2|            0|      1|      0|    1|   0|  0|        1|       0|   1|    0|      0|     1|      0|    0|       0|       0|        0|       0|   0|       0|       0|      0|      0|          0|   0|         0|      0|      0|        1|     0|   0|    0|        0|     0|         0|         0|     0|      0|     0|    0|       1|\n",
      "+--------------------+-------+------+-----+---------+----+----+----+----+---+-----+-----+----+----------+----+---+----+--------+-----+--------+---------+-------+-----+----+-----+------+----+--------+-------+---------+---------+--------+----+----------+----+------+-----------+----+-----+---+----+-----------+-----+--------+----------+-------------+-------+-------+-----+----+---+---------+--------+----+-----+-------+------+-------+-----+--------+--------+---------+--------+----+--------+--------+-------+-------+-----------+----+----------+-------+-------+---------+------+----+-----+---------+------+----------+----------+------+-------+------+-----+--------+\n",
      "only showing top 20 rows\n",
      "\n"
     ]
    }
   ],
   "source": [
    "df_feats.show()"
   ]
  },
  {
   "cell_type": "code",
   "execution_count": 107,
   "metadata": {},
   "outputs": [],
   "source": [
    "df_feats.write.parquet(\"gs://data05839/tokens\")"
   ]
  },
  {
   "cell_type": "code",
   "execution_count": 108,
   "metadata": {},
   "outputs": [],
   "source": [
    "df_feats.coalesce(1).write.parquet(\"gs://data05839/tokens_single_file\")"
   ]
  },
  {
   "cell_type": "code",
   "execution_count": 109,
   "metadata": {},
   "outputs": [],
   "source": [
    "df_feats.coalesce(1).write.csv(\"gs://data05839/tokens_single_file_csv\")"
   ]
  },
  {
   "cell_type": "code",
   "execution_count": null,
   "metadata": {},
   "outputs": [],
   "source": []
  }
 ],
 "metadata": {
  "kernelspec": {
   "display_name": "PySpark",
   "language": "python",
   "name": "pyspark"
  },
  "language_info": {
   "codemirror_mode": {
    "name": "ipython",
    "version": 3
   },
   "file_extension": ".py",
   "mimetype": "text/x-python",
   "name": "python",
   "nbconvert_exporter": "python",
   "pygments_lexer": "ipython3",
   "version": "3.7.4"
  }
 },
 "nbformat": 4,
 "nbformat_minor": 4
}