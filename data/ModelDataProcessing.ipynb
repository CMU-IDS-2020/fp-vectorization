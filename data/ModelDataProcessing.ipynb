{
 "cells": [
  {
   "cell_type": "code",
   "execution_count": 1,
   "metadata": {},
   "outputs": [],
   "source": [
    "import numpy as np\n",
    "import pandas as pd"
   ]
  },
  {
   "cell_type": "code",
   "execution_count": 2,
   "metadata": {},
   "outputs": [],
   "source": [
    "df = pd.read_pickle('./projects.pkl')"
   ]
  },
  {
   "cell_type": "code",
   "execution_count": 14,
   "metadata": {},
   "outputs": [
    {
     "data": {
      "text/plain": [
       "(1110017, 18)"
      ]
     },
     "execution_count": 14,
     "metadata": {},
     "output_type": "execute_result"
    }
   ],
   "source": [
    "df.shape"
   ]
  },
  {
   "cell_type": "code",
   "execution_count": 15,
   "metadata": {},
   "outputs": [
    {
     "data": {
      "text/plain": [
       "(646531, 18)"
      ]
     },
     "execution_count": 15,
     "metadata": {},
     "output_type": "execute_result"
    }
   ],
   "source": [
    "df_1618 = df[(df['Project Posted Date'] > '2016-01-01') & (df['Project Posted Date'] < '2018-12-31')]\n",
    "df_1618.shape"
   ]
  },
  {
   "cell_type": "code",
   "execution_count": 17,
   "metadata": {},
   "outputs": [
    {
     "data": {
      "text/plain": [
       "<bound method NDFrame.head of                                Project ID                         School ID  \\\n",
       "463486   2d36bc7bb0e06fa27584712947b1e1ed  804169121f2cdb3bda4665e58a03e3ae   \n",
       "463487   9e9172005e36c8ca6cf85839022cc430  e616411ce0b0adcb07f917a6fa77cb6b   \n",
       "463488   abce71a45bb063e40fba669d01d22c29  e292eb8cc227208fe22952bdbaa27963   \n",
       "463489   7150253bfc78d79c2b483ff16e2a552a  bc0a0fa6f51793c1b2d5e72925d2d338   \n",
       "463490   366c36725e9e7607b5c5e5c0eb7126b7  50a01f5346ae59dbaff4768946749f6b   \n",
       "...                                   ...                               ...   \n",
       "1110012  9f666ce758b2b1ef81013c9ba44ad187  0b642ece7cc59dc44eebdde5bd76d550   \n",
       "1110013  e793f983654503778ee5ca84c7949ba3  db672a68b83c7825123dfd757cd82fce   \n",
       "1110014  e4f265c55af985eb36b404dc3c7d4bfa  ca45c121a0e1c1450a76f083a37a6cc5   \n",
       "1110015  09bec6536169086e7c5441eb703e292a  41c4a4fb5712361c2efb1b24a6f4830a   \n",
       "1110016  825bc64a9ada078ca216507d1e5a2a0a  a2620081d137bb850f9dcacdec7cd1bd   \n",
       "\n",
       "                               Teacher ID  Teacher Project Posted Sequence  \\\n",
       "463486   07199b6a5217c4f85582f9cbbfbd65b4                                1   \n",
       "463487   f24527c2f0fa1326a60fd57e1956bc4a                               16   \n",
       "463488   6256f3cb5c44aa6ab76fbf3b0b37327d                                5   \n",
       "463489   eeb3e0cea9a637a186b539bbd00f6f45                                2   \n",
       "463490   be8786b4a0f56e8beb28c5aa7409ba29                                9   \n",
       "...                                   ...                              ...   \n",
       "1110012  8a1f2ff01d96fa4f6d958fea3b187ee0                                1   \n",
       "1110013  f1607b015231bdcc8ed9eedd0aa10c6a                                3   \n",
       "1110014  eb843a28beb426d697afa249ba0b6499                               10   \n",
       "1110015  58bf90d0f324190e96efe0e83b12a5d3                                2   \n",
       "1110016  0ef64f17751d77b22e2abd0c03c81c0d                               16   \n",
       "\n",
       "        Project Type                                      Project Title  \\\n",
       "463486   Teacher-Led                       A Hungry Stomach Cannot Hear   \n",
       "463487   Teacher-Led                     Storage For Our Awesome Books!   \n",
       "463488   Teacher-Led              We're All Ears for a Listening Center   \n",
       "463489   Teacher-Led                      Books for Our SOARING Library   \n",
       "463490   Teacher-Led  Bluford High Books: Making Connections with Books   \n",
       "...              ...                                                ...   \n",
       "1110012  Teacher-Led                                Screen Printing 101   \n",
       "1110013  Teacher-Led         Flexible Seating for Super Second Graders!   \n",
       "1110014  Teacher-Led                                   Growing Artists!   \n",
       "1110015  Teacher-Led                                     TIME For Kids!   \n",
       "1110016  Teacher-Led                           Growing Digital Learners   \n",
       "\n",
       "                                             Project Essay  \\\n",
       "463486   “A hungry stomach cannot hear” This quote by J...   \n",
       "463487   \"I have always imagined that paradise will be ...   \n",
       "463488   After listening to a read aloud read by the te...   \n",
       "463489   Some of my students have not yet discovered bo...   \n",
       "463490   My students - especially my girls - have been ...   \n",
       "...                                                    ...   \n",
       "1110012  Most of the scholars had no idea that they wou...   \n",
       "1110013        My students are super second graders!!! ...   \n",
       "1110014  I teach at a Title I school, and 76% of studen...   \n",
       "1110015  I teach at a Title I school for a district tha...   \n",
       "1110016  My preschool students are the sweetest, despit...   \n",
       "\n",
       "                                 Project Short Description  \\\n",
       "463486   \"A hungry stomach cannot hear\" This quote by J...   \n",
       "463487   \"I have always imagined that paradise will be ...   \n",
       "463488   After listening to a read aloud read by the te...   \n",
       "463489   Some of my students have not yet discovered bo...   \n",
       "463490   My students - especially my girls - have been ...   \n",
       "...                                                    ...   \n",
       "1110012  Most of the scholars had no idea that they wou...   \n",
       "1110013  My students are super second graders!!! Our sc...   \n",
       "1110014  I teach at a Title I school, and 76% of studen...   \n",
       "1110015  I teach at a Title I school for a district tha...   \n",
       "1110016  My preschool students are the sweetest, despit...   \n",
       "\n",
       "                                    Project Need Statement  \\\n",
       "463486   My students need snacks such as Cheetos, anima...   \n",
       "463487   My students need a mobile storage cart and boo...   \n",
       "463488   My students need a listening center and books ...   \n",
       "463489   My students need a rug and more storage to dis...   \n",
       "463490   My students need copies of the Bluford High bo...   \n",
       "...                                                    ...   \n",
       "1110012  My students need the printer's Edge Aluminum S...   \n",
       "1110013  My students need new flexible seating options ...   \n",
       "1110014  My students need must have instruction across ...   \n",
       "1110015  My students need materials that motivate them ...   \n",
       "1110016  My students need an Apple iPad Mini 4 tablet a...   \n",
       "\n",
       "                 Project Subject Category Tree  \\\n",
       "463486   Literacy & Language, Applied Learning   \n",
       "463487                     Literacy & Language   \n",
       "463488   Literacy & Language, Music & The Arts   \n",
       "463489                        History & Civics   \n",
       "463490                     Literacy & Language   \n",
       "...                                        ...   \n",
       "1110012                       Music & The Arts   \n",
       "1110013    Literacy & Language, Math & Science   \n",
       "1110014  Literacy & Language, Music & The Arts   \n",
       "1110015                    Literacy & Language   \n",
       "1110016  Applied Learning, Literacy & Language   \n",
       "\n",
       "          Project Subject Subcategory Tree Project Grade Level Category  \\\n",
       "463486                     Literacy, Other                   Grades 3-5   \n",
       "463487                            Literacy                Grades PreK-2   \n",
       "463488               Literacy, Visual Arts                Grades PreK-2   \n",
       "463489                 History & Geography                   Grades 3-5   \n",
       "463490                            Literacy                   Grades 6-8   \n",
       "...                                    ...                          ...   \n",
       "1110012                        Visual Arts                  Grades 9-12   \n",
       "1110013  Literature & Writing, Mathematics                Grades PreK-2   \n",
       "1110014  Literature & Writing, Visual Arts                Grades PreK-2   \n",
       "1110015                                ESL                   Grades 3-5   \n",
       "1110016        Early Development, Literacy                Grades PreK-2   \n",
       "\n",
       "              Project Resource Category  Project Cost Project Posted Date  \\\n",
       "463486                            Other        509.89          2016-01-02   \n",
       "463487                         Supplies        284.27          2016-01-02   \n",
       "463488                            Books        272.92          2016-01-02   \n",
       "463489                            Books        189.76          2016-01-02   \n",
       "463490                            Books        174.60          2016-01-02   \n",
       "...                                 ...           ...                 ...   \n",
       "1110012                    Art Supplies        633.84          2018-05-01   \n",
       "1110013  Reading Nooks, Desks & Storage        626.24          2018-05-01   \n",
       "1110014                    Art Supplies        193.13          2018-05-01   \n",
       "1110015                           Books        246.18          2018-05-01   \n",
       "1110016             Computers & Tablets        578.16          2018-05-01   \n",
       "\n",
       "        Project Expiration Date Project Current Status  \\\n",
       "463486               2016-05-01           Fully Funded   \n",
       "463487               2016-04-30                Expired   \n",
       "463488               2016-05-01           Fully Funded   \n",
       "463489               2016-04-30           Fully Funded   \n",
       "463490               2016-05-01           Fully Funded   \n",
       "...                         ...                    ...   \n",
       "1110012              2018-05-22           Fully Funded   \n",
       "1110013              2018-08-30                   Live   \n",
       "1110014              2018-09-01           Fully Funded   \n",
       "1110015              2018-08-30                   Live   \n",
       "1110016              2018-08-30                   Live   \n",
       "\n",
       "        Project Fully Funded Date  \n",
       "463486                 2016-01-07  \n",
       "463487                        NaN  \n",
       "463488                 2016-03-10  \n",
       "463489                 2016-01-14  \n",
       "463490                 2016-03-09  \n",
       "...                           ...  \n",
       "1110012                2018-05-07  \n",
       "1110013                       NaN  \n",
       "1110014                2018-05-03  \n",
       "1110015                       NaN  \n",
       "1110016                       NaN  \n",
       "\n",
       "[646531 rows x 18 columns]>"
      ]
     },
     "execution_count": 17,
     "metadata": {},
     "output_type": "execute_result"
    }
   ],
   "source": [
    "df_1618.head"
   ]
  },
  {
   "cell_type": "code",
   "execution_count": 20,
   "metadata": {},
   "outputs": [
    {
     "name": "stderr",
     "output_type": "stream",
     "text": [
      "<ipython-input-20-89931b86c4f6>:2: SettingWithCopyWarning: \n",
      "A value is trying to be set on a copy of a slice from a DataFrame.\n",
      "Try using .loc[row_indexer,col_indexer] = value instead\n",
      "\n",
      "See the caveats in the documentation: https://pandas.pydata.org/pandas-docs/stable/user_guide/indexing.html#returning-a-view-versus-a-copy\n",
      "  df_1618[\"Y\"] = df_1618[\"Project Current Status\"] == \"Fully Funded\"\n"
     ]
    }
   ],
   "source": [
    "# Y: whether fully funded or not\n",
    "df_1618[\"Project Current Status\"] = df_1618[\"Project Current Status\"] == \"Fully Funded\""
   ]
  },
  {
   "cell_type": "code",
   "execution_count": 29,
   "metadata": {},
   "outputs": [],
   "source": [
    "df_1618 = df_1618.reset_index()"
   ]
  },
  {
   "cell_type": "code",
   "execution_count": 31,
   "metadata": {},
   "outputs": [],
   "source": [
    "df_1618.to_pickle(\"./projects_16_18.pkl\")"
   ]
  },
  {
   "cell_type": "code",
   "execution_count": null,
   "metadata": {},
   "outputs": [],
   "source": []
  },
  {
   "cell_type": "markdown",
   "metadata": {},
   "source": [
    "Target features: [2016-2018]\n",
    "```\n",
    "Project Essay \n",
    "   (length, ?/!, precise numbers)\n",
    "Project Subject Subcategory Tree\n",
    "Project Resource Category\n",
    "Project Cost\n",
    "Project Valid Time (Expiration Date - Posted Date)\n",
    "Teacher Project Posted Sequence\n",
    "```"
   ]
  },
  {
   "cell_type": "code",
   "execution_count": 55,
   "metadata": {},
   "outputs": [
    {
     "data": {
      "text/plain": [
       "Index(['Project ID', 'School ID', 'Teacher ID',\n",
       "       'Teacher Project Posted Sequence', 'Project Type', 'Project Title',\n",
       "       'Project Essay', 'Project Short Description', 'Project Need Statement',\n",
       "       'Project Subject Category Tree', 'Project Subject Subcategory Tree',\n",
       "       'Project Grade Level Category', 'Project Resource Category',\n",
       "       'Project Cost', 'Project Posted Date', 'Project Expiration Date',\n",
       "       'Project Current Status', 'Project Fully Funded Date'],\n",
       "      dtype='object')"
      ]
     },
     "execution_count": 55,
     "metadata": {},
     "output_type": "execute_result"
    }
   ],
   "source": [
    "df.columns"
   ]
  },
  {
   "cell_type": "code",
   "execution_count": 56,
   "metadata": {},
   "outputs": [],
   "source": [
    "import re\n",
    "regex_sanitize = re.compile(r\"(<!--DONOTREMOVEESSAYDIVIDER-->)\")\n",
    "df_1618['Project Essay Cleaned'] = df_1618['Project Essay'].str.replace(regex_sanitize, '')"
   ]
  },
  {
   "cell_type": "code",
   "execution_count": 58,
   "metadata": {},
   "outputs": [],
   "source": [
    "df_1618['X_essay_len'] = df_1618['Project Essay Cleaned'].str.len()"
   ]
  },
  {
   "cell_type": "code",
   "execution_count": 63,
   "metadata": {},
   "outputs": [],
   "source": [
    "df_1618['X_essay_?!'] = df_1618['Project Essay Cleaned'].str.count('\\\\?') + df_1618['Project Essay Cleaned'].str.count('\\\\!')"
   ]
  },
  {
   "cell_type": "code",
   "execution_count": 64,
   "metadata": {},
   "outputs": [
    {
     "data": {
      "text/plain": [
       "array([ 0,  1,  4,  2,  5,  8,  3,  7, 10,  6,  9, 12, 14, 11, 21, 13, 22,\n",
       "       15, 25, 24, 16, 18, 20, 19, 17, 23, 26, 29, 31, 32, 30])"
      ]
     },
     "execution_count": 64,
     "metadata": {},
     "output_type": "execute_result"
    }
   ],
   "source": [
    "df_1618['X_essay_?!'].unique()"
   ]
  },
  {
   "cell_type": "code",
   "execution_count": 66,
   "metadata": {},
   "outputs": [],
   "source": [
    "english_numbers = [\"One\", \"Two\", \"Three\", \"Four\", \"Five\", \\\n",
    "                   \"Six\", \"Seven\", \"Eight\", \"Nine\", \"Ten\", \\\n",
    "                   \"Eleven\", \"Twelve\", \"Thirteen\", \"Fourteen\", \"Fifteen\", \\\n",
    "                   \"Sixteen\", \"Seventeen\", \"Eighteen\", \"Nineteen\", \"Twenty\", \\\n",
    "                   \"Thirty\", \"Forty\", \"Fifty\", \"Sixty\", \"Seventy\", \"Eighty\", \"Ninety\", \\\n",
    "                   \"Thousand\", \"Million\", \"Billion\"]"
   ]
  },
  {
   "cell_type": "code",
   "execution_count": 78,
   "metadata": {},
   "outputs": [],
   "source": [
    "regex_numbers = re.compile(\"(\\d|(\" + \"|\".join(map(re.escape, english_numbers)) + \"))\")"
   ]
  },
  {
   "cell_type": "code",
   "execution_count": 79,
   "metadata": {},
   "outputs": [],
   "source": [
    "df_1618['X_essay_numbers'] = df_1618['Project Essay Cleaned'].str.count(regex_numbers)"
   ]
  },
  {
   "cell_type": "code",
   "execution_count": 81,
   "metadata": {},
   "outputs": [
    {
     "data": {
      "text/plain": [
       "0     1\n",
       "1     0\n",
       "2     0\n",
       "3     0\n",
       "4     4\n",
       "5     9\n",
       "6     8\n",
       "7     4\n",
       "8     5\n",
       "9     4\n",
       "10    5\n",
       "11    8\n",
       "12    3\n",
       "13    3\n",
       "14    0\n",
       "15    2\n",
       "16    9\n",
       "17    3\n",
       "18    0\n",
       "19    5\n",
       "Name: X_essay_numbers, dtype: int64"
      ]
     },
     "execution_count": 81,
     "metadata": {},
     "output_type": "execute_result"
    }
   ],
   "source": [
    "df_1618['X_essay_numbers'][0:20]"
   ]
  },
  {
   "cell_type": "code",
   "execution_count": 82,
   "metadata": {},
   "outputs": [],
   "source": [
    "df_1618.to_pickle(\"./projects_16_18_essay_features.pkl\")"
   ]
  },
  {
   "cell_type": "code",
   "execution_count": null,
   "metadata": {},
   "outputs": [],
   "source": []
  }
 ],
 "metadata": {
  "kernelspec": {
   "display_name": "Python 3",
   "language": "python",
   "name": "python3"
  },
  "language_info": {
   "codemirror_mode": {
    "name": "ipython",
    "version": 3
   },
   "file_extension": ".py",
   "mimetype": "text/x-python",
   "name": "python",
   "nbconvert_exporter": "python",
   "pygments_lexer": "ipython3",
   "version": "3.8.6"
  }
 },
 "nbformat": 4,
 "nbformat_minor": 4
}
