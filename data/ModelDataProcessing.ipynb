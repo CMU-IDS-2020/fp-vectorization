{
 "cells": [
  {
   "cell_type": "code",
   "execution_count": 2,
   "metadata": {},
   "outputs": [],
   "source": [
    "import numpy as np\n",
    "import pandas as pd"
   ]
  },
  {
   "cell_type": "code",
   "execution_count": 2,
   "metadata": {},
   "outputs": [],
   "source": [
    "df = pd.read_pickle('./projects.pkl')"
   ]
  },
  {
   "cell_type": "code",
   "execution_count": 14,
   "metadata": {},
   "outputs": [
    {
     "data": {
      "text/plain": [
       "(1110017, 18)"
      ]
     },
     "execution_count": 14,
     "metadata": {},
     "output_type": "execute_result"
    }
   ],
   "source": [
    "df.shape"
   ]
  },
  {
   "cell_type": "code",
   "execution_count": 15,
   "metadata": {},
   "outputs": [
    {
     "data": {
      "text/plain": [
       "(646531, 18)"
      ]
     },
     "execution_count": 15,
     "metadata": {},
     "output_type": "execute_result"
    }
   ],
   "source": [
    "df_1618 = df[(df['Project Posted Date'] > '2016-01-01') & (df['Project Posted Date'] < '2018-12-31')]\n",
    "df_1618 = df_1618.reset_index()\n",
    "df_1618.shape"
   ]
  },
  {
   "cell_type": "code",
   "execution_count": 31,
   "metadata": {},
   "outputs": [],
   "source": [
    "# df_1618.to_pickle(\"./projects_16_18.pkl\")"
   ]
  },
  {
   "cell_type": "markdown",
   "metadata": {},
   "source": [
    "Target features: [2016-2018]\n",
    "```\n",
    "Project Essay \n",
    "   (length, ?/!, precise numbers)\n",
    "Project Subject Subcategory Tree\n",
    "Project Resource Category\n",
    "Project Cost\n",
    "Project Valid Time (Expiration Date - Posted Date)\n",
    "Teacher Project Posted Sequence\n",
    "```"
   ]
  },
  {
   "cell_type": "code",
   "execution_count": 55,
   "metadata": {},
   "outputs": [
    {
     "data": {
      "text/plain": [
       "Index(['Project ID', 'School ID', 'Teacher ID',\n",
       "       'Teacher Project Posted Sequence', 'Project Type', 'Project Title',\n",
       "       'Project Essay', 'Project Short Description', 'Project Need Statement',\n",
       "       'Project Subject Category Tree', 'Project Subject Subcategory Tree',\n",
       "       'Project Grade Level Category', 'Project Resource Category',\n",
       "       'Project Cost', 'Project Posted Date', 'Project Expiration Date',\n",
       "       'Project Current Status', 'Project Fully Funded Date'],\n",
       "      dtype='object')"
      ]
     },
     "execution_count": 55,
     "metadata": {},
     "output_type": "execute_result"
    }
   ],
   "source": [
    "df.columns"
   ]
  },
  {
   "cell_type": "code",
   "execution_count": 56,
   "metadata": {},
   "outputs": [],
   "source": [
    "import re\n",
    "regex_sanitize = re.compile(r\"(<!--DONOTREMOVEESSAYDIVIDER-->)\")\n",
    "df_1618['Project Essay Cleaned'] = df_1618['Project Essay'].str.replace(regex_sanitize, '')"
   ]
  },
  {
   "cell_type": "code",
   "execution_count": 58,
   "metadata": {},
   "outputs": [],
   "source": [
    "df_1618['X_essay_len'] = df_1618['Project Essay Cleaned'].str.len()"
   ]
  },
  {
   "cell_type": "code",
   "execution_count": 63,
   "metadata": {},
   "outputs": [],
   "source": [
    "df_1618['X_essay_?!'] = df_1618['Project Essay Cleaned'].str.count('\\\\?') + df_1618['Project Essay Cleaned'].str.count('\\\\!')"
   ]
  },
  {
   "cell_type": "code",
   "execution_count": 64,
   "metadata": {},
   "outputs": [
    {
     "data": {
      "text/plain": [
       "array([ 0,  1,  4,  2,  5,  8,  3,  7, 10,  6,  9, 12, 14, 11, 21, 13, 22,\n",
       "       15, 25, 24, 16, 18, 20, 19, 17, 23, 26, 29, 31, 32, 30])"
      ]
     },
     "execution_count": 64,
     "metadata": {},
     "output_type": "execute_result"
    }
   ],
   "source": [
    "df_1618['X_essay_?!'].unique()"
   ]
  },
  {
   "cell_type": "code",
   "execution_count": 66,
   "metadata": {},
   "outputs": [],
   "source": [
    "english_numbers = [\"One\", \"Two\", \"Three\", \"Four\", \"Five\", \\\n",
    "                   \"Six\", \"Seven\", \"Eight\", \"Nine\", \"Ten\", \\\n",
    "                   \"Eleven\", \"Twelve\", \"Thirteen\", \"Fourteen\", \"Fifteen\", \\\n",
    "                   \"Sixteen\", \"Seventeen\", \"Eighteen\", \"Nineteen\", \"Twenty\", \\\n",
    "                   \"Thirty\", \"Forty\", \"Fifty\", \"Sixty\", \"Seventy\", \"Eighty\", \"Ninety\", \\\n",
    "                   \"Thousand\", \"Million\", \"Billion\"]"
   ]
  },
  {
   "cell_type": "code",
   "execution_count": 78,
   "metadata": {},
   "outputs": [],
   "source": [
    "regex_numbers = re.compile(\"(\\d|(\" + \"|\".join(map(re.escape, english_numbers)) + \"))\")"
   ]
  },
  {
   "cell_type": "code",
   "execution_count": 79,
   "metadata": {},
   "outputs": [],
   "source": [
    "df_1618['X_essay_numbers'] = df_1618['Project Essay Cleaned'].str.count(regex_numbers)"
   ]
  },
  {
   "cell_type": "code",
   "execution_count": 81,
   "metadata": {},
   "outputs": [
    {
     "data": {
      "text/plain": [
       "0     1\n",
       "1     0\n",
       "2     0\n",
       "3     0\n",
       "4     4\n",
       "5     9\n",
       "6     8\n",
       "7     4\n",
       "8     5\n",
       "9     4\n",
       "10    5\n",
       "11    8\n",
       "12    3\n",
       "13    3\n",
       "14    0\n",
       "15    2\n",
       "16    9\n",
       "17    3\n",
       "18    0\n",
       "19    5\n",
       "Name: X_essay_numbers, dtype: int64"
      ]
     },
     "execution_count": 81,
     "metadata": {},
     "output_type": "execute_result"
    }
   ],
   "source": [
    "df_1618['X_essay_numbers'][0:20]"
   ]
  },
  {
   "cell_type": "code",
   "execution_count": 82,
   "metadata": {},
   "outputs": [],
   "source": [
    "# df_1618.to_pickle(\"./projects_16_18_with_essay_features.pkl\")"
   ]
  },
  {
   "cell_type": "code",
   "execution_count": 3,
   "metadata": {},
   "outputs": [],
   "source": [
    "# df_1618 = pd.read_pickle(\"./projects_16_18_essay_features.pkl\")"
   ]
  },
  {
   "cell_type": "code",
   "execution_count": 4,
   "metadata": {},
   "outputs": [],
   "source": [
    "df_1618_features_only = df_1618.filter(['X_essay_len', 'X_essay_?!', 'X_essay_numbers'], axis=1)"
   ]
  },
  {
   "cell_type": "code",
   "execution_count": 5,
   "metadata": {},
   "outputs": [],
   "source": [
    "df_1618_features_only.to_pickle(\"./projects_16_18_essay_features_only.pkl\")"
   ]
  }
 ],
 "metadata": {
  "kernelspec": {
   "display_name": "Python 3",
   "language": "python",
   "name": "python3"
  },
  "language_info": {
   "codemirror_mode": {
    "name": "ipython",
    "version": 3
   },
   "file_extension": ".py",
   "mimetype": "text/x-python",
   "name": "python",
   "nbconvert_exporter": "python",
   "pygments_lexer": "ipython3",
   "version": "3.8.6"
  }
 },
 "nbformat": 4,
 "nbformat_minor": 4
}
