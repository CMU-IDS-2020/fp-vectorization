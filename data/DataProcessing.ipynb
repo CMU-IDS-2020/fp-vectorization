{
 "cells": [
  {
   "cell_type": "code",
   "execution_count": 1,
   "metadata": {},
   "outputs": [],
   "source": [
    "import numpy as np\n",
    "import pandas as pd"
   ]
  },
  {
   "cell_type": "code",
   "execution_count": 2,
   "metadata": {},
   "outputs": [],
   "source": [
    "proj = pd.read_csv('./Projects.csv')"
   ]
  },
  {
   "cell_type": "code",
   "execution_count": 4,
   "metadata": {},
   "outputs": [],
   "source": [
    "# proj.to_pickle(\"./projects.pkl\")"
   ]
  },
  {
   "cell_type": "code",
   "execution_count": 8,
   "metadata": {},
   "outputs": [
    {
     "name": "stdout",
     "output_type": "stream",
     "text": [
      "Index(['Project ID', 'School ID', 'Teacher ID',\n",
      "       'Teacher Project Posted Sequence', 'Project Type', 'Project Title',\n",
      "       'Project Essay', 'Project Short Description', 'Project Need Statement',\n",
      "       'Project Subject Category Tree', 'Project Subject Subcategory Tree',\n",
      "       'Project Grade Level Category', 'Project Resource Category',\n",
      "       'Project Cost', 'Project Posted Date', 'Project Expiration Date',\n",
      "       'Project Current Status', 'Project Fully Funded Date'],\n",
      "      dtype='object')\n"
     ]
    }
   ],
   "source": [
    "print(proj.columns)"
   ]
  },
  {
   "cell_type": "code",
   "execution_count": 9,
   "metadata": {},
   "outputs": [
    {
     "name": "stdout",
     "output_type": "stream",
     "text": [
      "<bound method NDFrame.head of                                Project ID                         School ID  \\\n",
      "0        7685f0265a19d7b52a470ee4bac883ba  e180c7424cb9c68cb49f141b092a988f   \n",
      "1        f9f4af7099061fb4bf44642a03e5c331  08b20f1e2125103ed7aa17e8d76c71d4   \n",
      "2        afd99a01739ad5557b51b1ba0174e832  1287f5128b1f36bf8434e5705a7cc04d   \n",
      "3        c614a38bb1a5e68e2ae6ad9d94bb2492  900fec9cd7a3188acbc90586a09584ef   \n",
      "4        ec82a697fab916c0db0cdad746338df9  3b200e7fe3e6dde3c169c02e5fb5ae86   \n",
      "...                                   ...                               ...   \n",
      "1110012  9f666ce758b2b1ef81013c9ba44ad187  0b642ece7cc59dc44eebdde5bd76d550   \n",
      "1110013  e793f983654503778ee5ca84c7949ba3  db672a68b83c7825123dfd757cd82fce   \n",
      "1110014  e4f265c55af985eb36b404dc3c7d4bfa  ca45c121a0e1c1450a76f083a37a6cc5   \n",
      "1110015  09bec6536169086e7c5441eb703e292a  41c4a4fb5712361c2efb1b24a6f4830a   \n",
      "1110016  825bc64a9ada078ca216507d1e5a2a0a  a2620081d137bb850f9dcacdec7cd1bd   \n",
      "\n",
      "                               Teacher ID  Teacher Project Posted Sequence  \\\n",
      "0        4ee5200e89d9e2998ec8baad8a3c5968                               25   \n",
      "1        cca2d1d277fb4adb50147b49cdc3b156                                3   \n",
      "2        6c5bd0d4f20547a001628aefd71de89e                                1   \n",
      "3        8ed6f8181d092a8f4c008b18d18e54ad                               40   \n",
      "4        893173d62775f8be7c30bf4220ad0c33                                2   \n",
      "...                                   ...                              ...   \n",
      "1110012  8a1f2ff01d96fa4f6d958fea3b187ee0                                1   \n",
      "1110013  f1607b015231bdcc8ed9eedd0aa10c6a                                3   \n",
      "1110014  eb843a28beb426d697afa249ba0b6499                               10   \n",
      "1110015  58bf90d0f324190e96efe0e83b12a5d3                                2   \n",
      "1110016  0ef64f17751d77b22e2abd0c03c81c0d                               16   \n",
      "\n",
      "        Project Type                                      Project Title  \\\n",
      "0        Teacher-Led             Stand Up to Bullying: Together We Can!   \n",
      "1        Teacher-Led                                 Learning in Color!   \n",
      "2        Teacher-Led  Help Second Grade ESL Students Develop Languag...   \n",
      "3        Teacher-Led  Help Bilingual Students Strengthen Reading Com...   \n",
      "4        Teacher-Led                   Help Us Make Each Minute Count!    \n",
      "...              ...                                                ...   \n",
      "1110012  Teacher-Led                                Screen Printing 101   \n",
      "1110013  Teacher-Led         Flexible Seating for Super Second Graders!   \n",
      "1110014  Teacher-Led                                   Growing Artists!   \n",
      "1110015  Teacher-Led                                     TIME For Kids!   \n",
      "1110016  Teacher-Led                           Growing Digital Learners   \n",
      "\n",
      "                                             Project Essay  \\\n",
      "0        Did you know that 1-7 students in grades K-12 ...   \n",
      "1        Help us have a fun, interactive listening cent...   \n",
      "2        Visiting or moving to a new place can be very ...   \n",
      "3        Students at our school are still working hard ...   \n",
      "4        \"Idle hands\" were something that Issac Watts s...   \n",
      "...                                                    ...   \n",
      "1110012  Most of the scholars had no idea that they wou...   \n",
      "1110013        My students are super second graders!!! ...   \n",
      "1110014  I teach at a Title I school, and 76% of studen...   \n",
      "1110015  I teach at a Title I school for a district tha...   \n",
      "1110016  My preschool students are the sweetest, despit...   \n",
      "\n",
      "                                 Project Short Description  \\\n",
      "0        Did you know that 1-7 students in grades K-12 ...   \n",
      "1        Help us have a fun, interactive listening cent...   \n",
      "2        Visiting or moving to a new place can be very ...   \n",
      "3        Students at our school are still working hard ...   \n",
      "4        \"Idle hands\" were something that Issac Watts s...   \n",
      "...                                                    ...   \n",
      "1110012  Most of the scholars had no idea that they wou...   \n",
      "1110013  My students are super second graders!!! Our sc...   \n",
      "1110014  I teach at a Title I school, and 76% of studen...   \n",
      "1110015  I teach at a Title I school for a district tha...   \n",
      "1110016  My preschool students are the sweetest, despit...   \n",
      "\n",
      "                                    Project Need Statement  \\\n",
      "0        My students need 25 copies of \"Bullying in Sch...   \n",
      "1        My students need a listening center, read alon...   \n",
      "2        My students need beginning vocabulary audio ca...   \n",
      "3        My students need one copy of each book in The ...   \n",
      "4        My students need items such as Velcro, two pou...   \n",
      "...                                                    ...   \n",
      "1110012  My students need the printer's Edge Aluminum S...   \n",
      "1110013  My students need new flexible seating options ...   \n",
      "1110014  My students need must have instruction across ...   \n",
      "1110015  My students need materials that motivate them ...   \n",
      "1110016  My students need an Apple iPad Mini 4 tablet a...   \n",
      "\n",
      "                 Project Subject Category Tree  \\\n",
      "0                             Applied Learning   \n",
      "1        Applied Learning, Literacy & Language   \n",
      "2                          Literacy & Language   \n",
      "3                          Literacy & Language   \n",
      "4                                Special Needs   \n",
      "...                                        ...   \n",
      "1110012                       Music & The Arts   \n",
      "1110013    Literacy & Language, Math & Science   \n",
      "1110014  Literacy & Language, Music & The Arts   \n",
      "1110015                    Literacy & Language   \n",
      "1110016  Applied Learning, Literacy & Language   \n",
      "\n",
      "               Project Subject Subcategory Tree Project Grade Level Category  \\\n",
      "0        Character Education, Early Development                Grades PreK-2   \n",
      "1                   Early Development, Literacy                Grades PreK-2   \n",
      "2                                           ESL                Grades PreK-2   \n",
      "3                                 ESL, Literacy                   Grades 3-5   \n",
      "4                                 Special Needs                   Grades 3-5   \n",
      "...                                         ...                          ...   \n",
      "1110012                             Visual Arts                  Grades 9-12   \n",
      "1110013       Literature & Writing, Mathematics                Grades PreK-2   \n",
      "1110014       Literature & Writing, Visual Arts                Grades PreK-2   \n",
      "1110015                                     ESL                   Grades 3-5   \n",
      "1110016             Early Development, Literacy                Grades PreK-2   \n",
      "\n",
      "              Project Resource Category  Project Cost Project Posted Date  \\\n",
      "0                            Technology        361.80          2013-01-01   \n",
      "1                            Technology        512.85          2013-01-01   \n",
      "2                              Supplies        435.92          2013-01-01   \n",
      "3                                 Books        161.26          2013-01-01   \n",
      "4                              Supplies        264.19          2013-01-01   \n",
      "...                                 ...           ...                 ...   \n",
      "1110012                    Art Supplies        633.84          2018-05-01   \n",
      "1110013  Reading Nooks, Desks & Storage        626.24          2018-05-01   \n",
      "1110014                    Art Supplies        193.13          2018-05-01   \n",
      "1110015                           Books        246.18          2018-05-01   \n",
      "1110016             Computers & Tablets        578.16          2018-05-01   \n",
      "\n",
      "        Project Expiration Date Project Current Status  \\\n",
      "0                    2013-05-30           Fully Funded   \n",
      "1                    2013-05-31                Expired   \n",
      "2                    2013-05-30           Fully Funded   \n",
      "3                    2013-05-31           Fully Funded   \n",
      "4                    2013-05-30           Fully Funded   \n",
      "...                         ...                    ...   \n",
      "1110012              2018-05-22           Fully Funded   \n",
      "1110013              2018-08-30                   Live   \n",
      "1110014              2018-09-01           Fully Funded   \n",
      "1110015              2018-08-30                   Live   \n",
      "1110016              2018-08-30                   Live   \n",
      "\n",
      "        Project Fully Funded Date  \n",
      "0                      2013-01-11  \n",
      "1                             NaN  \n",
      "2                      2013-05-22  \n",
      "3                      2013-02-06  \n",
      "4                      2013-01-01  \n",
      "...                           ...  \n",
      "1110012                2018-05-07  \n",
      "1110013                       NaN  \n",
      "1110014                2018-05-03  \n",
      "1110015                       NaN  \n",
      "1110016                       NaN  \n",
      "\n",
      "[1110017 rows x 18 columns]>\n"
     ]
    }
   ],
   "source": [
    "print(proj.head)"
   ]
  },
  {
   "cell_type": "code",
   "execution_count": 11,
   "metadata": {},
   "outputs": [],
   "source": [
    "proj_cleaned = proj.drop(['Project Essay', 'Project Short Description', 'Project Need Statement'], axis=1)"
   ]
  },
  {
   "cell_type": "code",
   "execution_count": 13,
   "metadata": {},
   "outputs": [
    {
     "name": "stdout",
     "output_type": "stream",
     "text": [
      "Index(['Project ID', 'School ID', 'Teacher ID',\n",
      "       'Teacher Project Posted Sequence', 'Project Type', 'Project Title',\n",
      "       'Project Subject Category Tree', 'Project Subject Subcategory Tree',\n",
      "       'Project Grade Level Category', 'Project Resource Category',\n",
      "       'Project Cost', 'Project Posted Date', 'Project Expiration Date',\n",
      "       'Project Current Status', 'Project Fully Funded Date'],\n",
      "      dtype='object')\n"
     ]
    }
   ],
   "source": [
    "print(proj_cleaned.columns)\n",
    "proj_cleaned.to_pickle(\"./projects_cleaned.pkl\")"
   ]
  },
  {
   "cell_type": "code",
   "execution_count": null,
   "metadata": {},
   "outputs": [],
   "source": []
  }
 ],
 "metadata": {
  "kernelspec": {
   "display_name": "Python 3",
   "language": "python",
   "name": "python3"
  },
  "language_info": {
   "codemirror_mode": {
    "name": "ipython",
    "version": 3
   },
   "file_extension": ".py",
   "mimetype": "text/x-python",
   "name": "python",
   "nbconvert_exporter": "python",
   "pygments_lexer": "ipython3",
   "version": "3.8.6"
  }
 },
 "nbformat": 4,
 "nbformat_minor": 4
}
